{
 "cells": [
  {
   "cell_type": "code",
   "execution_count": 11,
   "id": "52b41c38",
   "metadata": {},
   "outputs": [],
   "source": [
    "import pandas as pd\n",
    "from sklearn.preprocessing import StandardScaler\n",
    "from sklearn.decomposition import PCA\n",
    "from sklearn.cluster import KMeans\n",
    "import hvplot.pandas\n",
    "\n",
    "from matplotlib import pyplot as plt"
   ]
  },
  {
   "cell_type": "code",
   "execution_count": 2,
   "id": "3af05d39",
   "metadata": {},
   "outputs": [
    {
     "data": {
      "text/html": [
       "<div>\n",
       "<style scoped>\n",
       "    .dataframe tbody tr th:only-of-type {\n",
       "        vertical-align: middle;\n",
       "    }\n",
       "\n",
       "    .dataframe tbody tr th {\n",
       "        vertical-align: top;\n",
       "    }\n",
       "\n",
       "    .dataframe thead th {\n",
       "        text-align: right;\n",
       "    }\n",
       "</style>\n",
       "<table border=\"1\" class=\"dataframe\">\n",
       "  <thead>\n",
       "    <tr style=\"text-align: right;\">\n",
       "      <th></th>\n",
       "      <th>sepal_length</th>\n",
       "      <th>petal_length</th>\n",
       "      <th>sepal_width</th>\n",
       "      <th>petal_width</th>\n",
       "    </tr>\n",
       "  </thead>\n",
       "  <tbody>\n",
       "    <tr>\n",
       "      <th>0</th>\n",
       "      <td>5.1</td>\n",
       "      <td>1.4</td>\n",
       "      <td>3.5</td>\n",
       "      <td>0.2</td>\n",
       "    </tr>\n",
       "    <tr>\n",
       "      <th>1</th>\n",
       "      <td>4.9</td>\n",
       "      <td>1.4</td>\n",
       "      <td>3.0</td>\n",
       "      <td>0.2</td>\n",
       "    </tr>\n",
       "    <tr>\n",
       "      <th>2</th>\n",
       "      <td>4.7</td>\n",
       "      <td>1.3</td>\n",
       "      <td>3.2</td>\n",
       "      <td>0.2</td>\n",
       "    </tr>\n",
       "    <tr>\n",
       "      <th>3</th>\n",
       "      <td>4.6</td>\n",
       "      <td>1.5</td>\n",
       "      <td>3.1</td>\n",
       "      <td>0.2</td>\n",
       "    </tr>\n",
       "    <tr>\n",
       "      <th>4</th>\n",
       "      <td>5.0</td>\n",
       "      <td>1.4</td>\n",
       "      <td>3.6</td>\n",
       "      <td>0.2</td>\n",
       "    </tr>\n",
       "  </tbody>\n",
       "</table>\n",
       "</div>"
      ],
      "text/plain": [
       "   sepal_length  petal_length  sepal_width  petal_width\n",
       "0           5.1           1.4          3.5          0.2\n",
       "1           4.9           1.4          3.0          0.2\n",
       "2           4.7           1.3          3.2          0.2\n",
       "3           4.6           1.5          3.1          0.2\n",
       "4           5.0           1.4          3.6          0.2"
      ]
     },
     "execution_count": 2,
     "metadata": {},
     "output_type": "execute_result"
    }
   ],
   "source": [
    "# Loading data\n",
    "file_path = \"Resources/new_iris_data.csv\"\n",
    "df_iris = pd.read_csv(file_path)\n",
    "\n",
    "df_iris.head()"
   ]
  },
  {
   "cell_type": "code",
   "execution_count": 3,
   "id": "1f035ddf",
   "metadata": {},
   "outputs": [
    {
     "name": "stdout",
     "output_type": "stream",
     "text": [
      "[[-0.90068117 -1.3412724   1.03205722 -1.31297673]\n",
      " [-1.14301691 -1.3412724  -0.1249576  -1.31297673]\n",
      " [-1.38535265 -1.39813811  0.33784833 -1.31297673]\n",
      " [-1.50652052 -1.2844067   0.10644536 -1.31297673]\n",
      " [-1.02184904 -1.3412724   1.26346019 -1.31297673]]\n"
     ]
    }
   ],
   "source": [
    "# Standardize data with StandardScaler\n",
    "iris_scaled=StandardScaler().fit_transform(df_iris)\n",
    "print(iris_scaled[0:5])"
   ]
  },
  {
   "cell_type": "code",
   "execution_count": 4,
   "id": "bbae9cf2",
   "metadata": {},
   "outputs": [
    {
     "data": {
      "text/plain": [
       "array([[-0.90068117, -1.3412724 ,  1.03205722, -1.31297673],\n",
       "       [-1.14301691, -1.3412724 , -0.1249576 , -1.31297673],\n",
       "       [-1.38535265, -1.39813811,  0.33784833, -1.31297673],\n",
       "       [-1.50652052, -1.2844067 ,  0.10644536, -1.31297673],\n",
       "       [-1.02184904, -1.3412724 ,  1.26346019, -1.31297673]])"
      ]
     },
     "execution_count": 4,
     "metadata": {},
     "output_type": "execute_result"
    }
   ],
   "source": [
    "iris_scaled[0:5]"
   ]
  },
  {
   "cell_type": "code",
   "execution_count": 5,
   "id": "d9f76ad1",
   "metadata": {},
   "outputs": [],
   "source": [
    "# Initialize PCA model\n",
    "pca = PCA(n_components=2)  #reducing the features from 4 to 2"
   ]
  },
  {
   "cell_type": "code",
   "execution_count": 6,
   "id": "10b892f7",
   "metadata": {},
   "outputs": [],
   "source": [
    "# After creating the PCA model, we apply dimensionality reduction on the scaled dataset:\n",
    "# Get two principal components for the iris data.\n",
    "iris_pca = pca.fit_transform(iris_scaled)"
   ]
  },
  {
   "cell_type": "code",
   "execution_count": 7,
   "id": "07604b52",
   "metadata": {},
   "outputs": [
    {
     "data": {
      "text/html": [
       "<div>\n",
       "<style scoped>\n",
       "    .dataframe tbody tr th:only-of-type {\n",
       "        vertical-align: middle;\n",
       "    }\n",
       "\n",
       "    .dataframe tbody tr th {\n",
       "        vertical-align: top;\n",
       "    }\n",
       "\n",
       "    .dataframe thead th {\n",
       "        text-align: right;\n",
       "    }\n",
       "</style>\n",
       "<table border=\"1\" class=\"dataframe\">\n",
       "  <thead>\n",
       "    <tr style=\"text-align: right;\">\n",
       "      <th></th>\n",
       "      <th>principal component 1</th>\n",
       "      <th>principal component 2</th>\n",
       "    </tr>\n",
       "  </thead>\n",
       "  <tbody>\n",
       "    <tr>\n",
       "      <th>0</th>\n",
       "      <td>-2.264542</td>\n",
       "      <td>0.505704</td>\n",
       "    </tr>\n",
       "    <tr>\n",
       "      <th>1</th>\n",
       "      <td>-2.086426</td>\n",
       "      <td>-0.655405</td>\n",
       "    </tr>\n",
       "    <tr>\n",
       "      <th>2</th>\n",
       "      <td>-2.367950</td>\n",
       "      <td>-0.318477</td>\n",
       "    </tr>\n",
       "    <tr>\n",
       "      <th>3</th>\n",
       "      <td>-2.304197</td>\n",
       "      <td>-0.575368</td>\n",
       "    </tr>\n",
       "    <tr>\n",
       "      <th>4</th>\n",
       "      <td>-2.388777</td>\n",
       "      <td>0.674767</td>\n",
       "    </tr>\n",
       "  </tbody>\n",
       "</table>\n",
       "</div>"
      ],
      "text/plain": [
       "   principal component 1  principal component 2\n",
       "0              -2.264542               0.505704\n",
       "1              -2.086426              -0.655405\n",
       "2              -2.367950              -0.318477\n",
       "3              -2.304197              -0.575368\n",
       "4              -2.388777               0.674767"
      ]
     },
     "execution_count": 7,
     "metadata": {},
     "output_type": "execute_result"
    }
   ],
   "source": [
    "# Transform PCA data to a DataFrame\n",
    "\n",
    "df_iris_pca=pd.DataFrame(\n",
    "    data=iris_pca, columns=[\"principal component 1\", \"principal component 2\"])\n",
    "df_iris_pca.head()"
   ]
  },
  {
   "cell_type": "code",
   "execution_count": 8,
   "id": "c34187f3",
   "metadata": {},
   "outputs": [
    {
     "data": {
      "text/plain": [
       "array([0.72770452, 0.23030523])"
      ]
     },
     "execution_count": 8,
     "metadata": {},
     "output_type": "execute_result"
    }
   ],
   "source": [
    "# Fetch the explained variance\n",
    "\n",
    "pca.explained_variance_ratio_"
   ]
  },
  {
   "cell_type": "markdown",
   "id": "8980aafb",
   "metadata": {},
   "source": [
    "he first principal component contains 72.77% of the variance and the second contains 23.03%. Together, they contain 95.80% of the information.\n",
    "\n"
   ]
  },
  {
   "cell_type": "code",
   "execution_count": 10,
   "id": "90795328",
   "metadata": {},
   "outputs": [
    {
     "data": {},
     "metadata": {},
     "output_type": "display_data"
    },
    {
     "data": {
      "application/vnd.holoviews_exec.v0+json": "",
      "text/html": [
       "<div id='1111'>\n",
       "  <div class=\"bk-root\" id=\"cb867df4-e07a-4a45-8ee6-e05e0b195748\" data-root-id=\"1111\"></div>\n",
       "</div>\n",
       "<script type=\"application/javascript\">(function(root) {\n",
       "  function embed_document(root) {\n",
       "    var docs_json = {\"c5f9b708-44ea-4bfb-a681-822fffe669d9\":{\"defs\":[{\"extends\":null,\"module\":null,\"name\":\"ReactiveHTML1\",\"overrides\":[],\"properties\":[]},{\"extends\":null,\"module\":null,\"name\":\"FlexBox1\",\"overrides\":[],\"properties\":[{\"default\":\"flex-start\",\"kind\":null,\"name\":\"align_content\"},{\"default\":\"flex-start\",\"kind\":null,\"name\":\"align_items\"},{\"default\":\"row\",\"kind\":null,\"name\":\"flex_direction\"},{\"default\":\"wrap\",\"kind\":null,\"name\":\"flex_wrap\"},{\"default\":\"flex-start\",\"kind\":null,\"name\":\"justify_content\"}]},{\"extends\":null,\"module\":null,\"name\":\"GridStack1\",\"overrides\":[],\"properties\":[{\"default\":\"warn\",\"kind\":null,\"name\":\"mode\"},{\"default\":null,\"kind\":null,\"name\":\"ncols\"},{\"default\":null,\"kind\":null,\"name\":\"nrows\"},{\"default\":true,\"kind\":null,\"name\":\"allow_resize\"},{\"default\":true,\"kind\":null,\"name\":\"allow_drag\"},{\"default\":[],\"kind\":null,\"name\":\"state\"}]},{\"extends\":null,\"module\":null,\"name\":\"click1\",\"overrides\":[],\"properties\":[{\"default\":\"\",\"kind\":null,\"name\":\"terminal_output\"},{\"default\":\"\",\"kind\":null,\"name\":\"debug_name\"},{\"default\":0,\"kind\":null,\"name\":\"clears\"}]},{\"extends\":null,\"module\":null,\"name\":\"NotificationAreaBase1\",\"overrides\":[],\"properties\":[{\"default\":\"bottom-right\",\"kind\":null,\"name\":\"position\"},{\"default\":0,\"kind\":null,\"name\":\"_clear\"}]},{\"extends\":null,\"module\":null,\"name\":\"NotificationArea1\",\"overrides\":[],\"properties\":[{\"default\":[],\"kind\":null,\"name\":\"notifications\"},{\"default\":\"bottom-right\",\"kind\":null,\"name\":\"position\"},{\"default\":0,\"kind\":null,\"name\":\"_clear\"},{\"default\":[{\"background\":\"#ffc107\",\"icon\":{\"className\":\"fas fa-exclamation-triangle\",\"color\":\"white\",\"tagName\":\"i\"},\"type\":\"warning\"},{\"background\":\"#007bff\",\"icon\":{\"className\":\"fas fa-info-circle\",\"color\":\"white\",\"tagName\":\"i\"},\"type\":\"info\"}],\"kind\":null,\"name\":\"types\"}]},{\"extends\":null,\"module\":null,\"name\":\"Notification\",\"overrides\":[],\"properties\":[{\"default\":null,\"kind\":null,\"name\":\"background\"},{\"default\":3000,\"kind\":null,\"name\":\"duration\"},{\"default\":null,\"kind\":null,\"name\":\"icon\"},{\"default\":\"\",\"kind\":null,\"name\":\"message\"},{\"default\":null,\"kind\":null,\"name\":\"notification_type\"},{\"default\":false,\"kind\":null,\"name\":\"_destroyed\"}]},{\"extends\":null,\"module\":null,\"name\":\"TemplateActions1\",\"overrides\":[],\"properties\":[{\"default\":0,\"kind\":null,\"name\":\"open_modal\"},{\"default\":0,\"kind\":null,\"name\":\"close_modal\"}]},{\"extends\":null,\"module\":null,\"name\":\"MaterialTemplateActions1\",\"overrides\":[],\"properties\":[{\"default\":0,\"kind\":null,\"name\":\"open_modal\"},{\"default\":0,\"kind\":null,\"name\":\"close_modal\"}]}],\"roots\":{\"references\":[{\"attributes\":{},\"id\":\"1163\",\"type\":\"AllLabels\"},{\"attributes\":{\"coordinates\":null,\"group\":null,\"text\":\"Elbow Curve\",\"text_color\":\"black\",\"text_font_size\":\"12pt\"},\"id\":\"1117\",\"type\":\"Title\"},{\"attributes\":{},\"id\":\"1137\",\"type\":\"ResetTool\"},{\"attributes\":{\"bottom_units\":\"screen\",\"coordinates\":null,\"fill_alpha\":0.5,\"fill_color\":\"lightgrey\",\"group\":null,\"left_units\":\"screen\",\"level\":\"overlay\",\"line_alpha\":1.0,\"line_color\":\"black\",\"line_dash\":[4,4],\"line_width\":2,\"right_units\":\"screen\",\"syncable\":false,\"top_units\":\"screen\"},\"id\":\"1138\",\"type\":\"BoxAnnotation\"},{\"attributes\":{\"axis\":{\"id\":\"1129\"},\"coordinates\":null,\"dimension\":1,\"grid_line_color\":null,\"group\":null,\"ticker\":null},\"id\":\"1132\",\"type\":\"Grid\"},{\"attributes\":{},\"id\":\"1123\",\"type\":\"LinearScale\"},{\"attributes\":{\"margin\":[5,5,5,5],\"name\":\"HSpacer00970\",\"sizing_mode\":\"stretch_width\"},\"id\":\"1173\",\"type\":\"Spacer\"},{\"attributes\":{\"line_color\":\"#30a2da\",\"line_width\":2,\"x\":{\"field\":\"k\"},\"y\":{\"field\":\"inertia\"}},\"id\":\"1154\",\"type\":\"Line\"},{\"attributes\":{\"axis_label\":\"k\",\"coordinates\":null,\"formatter\":{\"id\":\"1157\"},\"group\":null,\"major_label_policy\":{\"id\":\"1158\"},\"ticker\":{\"id\":\"1155\"}},\"id\":\"1125\",\"type\":\"LinearAxis\"},{\"attributes\":{},\"id\":\"1162\",\"type\":\"BasicTickFormatter\"},{\"attributes\":{},\"id\":\"1147\",\"type\":\"Selection\"},{\"attributes\":{\"end\":10.0,\"reset_end\":10.0,\"reset_start\":1.0,\"start\":1.0,\"tags\":[[[\"k\",\"k\",null]]]},\"id\":\"1113\",\"type\":\"Range1d\"},{\"attributes\":{\"axis\":{\"id\":\"1125\"},\"coordinates\":null,\"grid_line_color\":null,\"group\":null,\"ticker\":null},\"id\":\"1128\",\"type\":\"Grid\"},{\"attributes\":{},\"id\":\"1130\",\"type\":\"BasicTicker\"},{\"attributes\":{\"axis_label\":\"inertia\",\"coordinates\":null,\"formatter\":{\"id\":\"1162\"},\"group\":null,\"major_label_policy\":{\"id\":\"1163\"},\"ticker\":{\"id\":\"1130\"}},\"id\":\"1129\",\"type\":\"LinearAxis\"},{\"attributes\":{\"children\":[{\"id\":\"1112\"},{\"id\":\"1116\"},{\"id\":\"1173\"}],\"margin\":[0,0,0,0],\"name\":\"Row00965\",\"tags\":[\"embedded\"]},\"id\":\"1111\",\"type\":\"Row\"},{\"attributes\":{\"line_alpha\":0.1,\"line_color\":\"#30a2da\",\"line_width\":2,\"x\":{\"field\":\"k\"},\"y\":{\"field\":\"inertia\"}},\"id\":\"1150\",\"type\":\"Line\"},{\"attributes\":{\"end\":629.4448064337403,\"reset_end\":629.4448064337403,\"reset_start\":-26.222644744436906,\"start\":-26.222644744436906,\"tags\":[[[\"inertia\",\"inertia\",null]]]},\"id\":\"1114\",\"type\":\"Range1d\"},{\"attributes\":{},\"id\":\"1170\",\"type\":\"UnionRenderers\"},{\"attributes\":{\"coordinates\":null,\"data_source\":{\"id\":\"1146\"},\"glyph\":{\"id\":\"1149\"},\"group\":null,\"hover_glyph\":null,\"muted_glyph\":{\"id\":\"1151\"},\"nonselection_glyph\":{\"id\":\"1150\"},\"selection_glyph\":{\"id\":\"1154\"},\"view\":{\"id\":\"1153\"}},\"id\":\"1152\",\"type\":\"GlyphRenderer\"},{\"attributes\":{},\"id\":\"1158\",\"type\":\"AllLabels\"},{\"attributes\":{\"source\":{\"id\":\"1146\"}},\"id\":\"1153\",\"type\":\"CDSView\"},{\"attributes\":{\"data\":{\"inertia\":{\"__ndarray__\":\"bDafYnL2gUA9bWBmntZoQKymqsr9Bl1AVvWgT6xnVkDm0qR94pNQQBYzFtg6gkxAOIlQDTvuR0D9MOcNVaJDQOq1b3wwFkBA9i2/QpNqPEA=\",\"dtype\":\"float64\",\"order\":\"little\",\"shape\":[10]},\"k\":[1,2,3,4,5,6,7,8,9,10]},\"selected\":{\"id\":\"1147\"},\"selection_policy\":{\"id\":\"1170\"}},\"id\":\"1146\",\"type\":\"ColumnDataSource\"},{\"attributes\":{\"line_alpha\":0.2,\"line_color\":\"#30a2da\",\"line_width\":2,\"x\":{\"field\":\"k\"},\"y\":{\"field\":\"inertia\"}},\"id\":\"1151\",\"type\":\"Line\"},{\"attributes\":{\"callback\":null,\"renderers\":[{\"id\":\"1152\"}],\"tags\":[\"hv_created\"],\"tooltips\":[[\"k\",\"@{k}\"],[\"inertia\",\"@{inertia}\"]]},\"id\":\"1115\",\"type\":\"HoverTool\"},{\"attributes\":{},\"id\":\"1157\",\"type\":\"BasicTickFormatter\"},{\"attributes\":{},\"id\":\"1133\",\"type\":\"SaveTool\"},{\"attributes\":{\"margin\":[5,5,5,5],\"name\":\"HSpacer00969\",\"sizing_mode\":\"stretch_width\"},\"id\":\"1112\",\"type\":\"Spacer\"},{\"attributes\":{\"below\":[{\"id\":\"1125\"}],\"center\":[{\"id\":\"1128\"},{\"id\":\"1132\"}],\"height\":300,\"left\":[{\"id\":\"1129\"}],\"margin\":[5,5,5,5],\"min_border_bottom\":10,\"min_border_left\":10,\"min_border_right\":10,\"min_border_top\":10,\"renderers\":[{\"id\":\"1152\"}],\"sizing_mode\":\"fixed\",\"title\":{\"id\":\"1117\"},\"toolbar\":{\"id\":\"1139\"},\"width\":700,\"x_range\":{\"id\":\"1113\"},\"x_scale\":{\"id\":\"1121\"},\"y_range\":{\"id\":\"1114\"},\"y_scale\":{\"id\":\"1123\"}},\"id\":\"1116\",\"subtype\":\"Figure\",\"type\":\"Plot\"},{\"attributes\":{},\"id\":\"1134\",\"type\":\"PanTool\"},{\"attributes\":{\"ticks\":[1,2,3,4,5,6,7,8,9,10]},\"id\":\"1155\",\"type\":\"FixedTicker\"},{\"attributes\":{\"line_color\":\"#30a2da\",\"line_width\":2,\"x\":{\"field\":\"k\"},\"y\":{\"field\":\"inertia\"}},\"id\":\"1149\",\"type\":\"Line\"},{\"attributes\":{},\"id\":\"1135\",\"type\":\"WheelZoomTool\"},{\"attributes\":{\"tools\":[{\"id\":\"1115\"},{\"id\":\"1133\"},{\"id\":\"1134\"},{\"id\":\"1135\"},{\"id\":\"1136\"},{\"id\":\"1137\"}]},\"id\":\"1139\",\"type\":\"Toolbar\"},{\"attributes\":{\"overlay\":{\"id\":\"1138\"}},\"id\":\"1136\",\"type\":\"BoxZoomTool\"},{\"attributes\":{},\"id\":\"1121\",\"type\":\"LinearScale\"}],\"root_ids\":[\"1111\"]},\"title\":\"Bokeh Application\",\"version\":\"2.4.3\"}};\n",
       "    var render_items = [{\"docid\":\"c5f9b708-44ea-4bfb-a681-822fffe669d9\",\"root_ids\":[\"1111\"],\"roots\":{\"1111\":\"cb867df4-e07a-4a45-8ee6-e05e0b195748\"}}];\n",
       "    root.Bokeh.embed.embed_items_notebook(docs_json, render_items);\n",
       "  }\n",
       "  if (root.Bokeh !== undefined && root.Bokeh.Panel !== undefined) {\n",
       "    embed_document(root);\n",
       "  } else {\n",
       "    var attempts = 0;\n",
       "    var timer = setInterval(function(root) {\n",
       "      if (root.Bokeh !== undefined && root.Bokeh.Panel !== undefined) {\n",
       "        clearInterval(timer);\n",
       "        embed_document(root);\n",
       "      } else if (document.readyState == \"complete\") {\n",
       "        attempts++;\n",
       "        if (attempts > 200) {\n",
       "          clearInterval(timer);\n",
       "          console.log(\"Bokeh: ERROR: Unable to run BokehJS code because BokehJS library is missing\");\n",
       "        }\n",
       "      }\n",
       "    }, 25, root)\n",
       "  }\n",
       "})(window);</script>"
      ],
      "text/plain": [
       ":Curve   [k]   (inertia)"
      ]
     },
     "execution_count": 10,
     "metadata": {
      "application/vnd.holoviews_exec.v0+json": {
       "id": "1111"
      }
     },
     "output_type": "execute_result"
    }
   ],
   "source": [
    "# Find the best value for K\n",
    "ssq = []\n",
    "k = list(range(1, 11))\n",
    "\n",
    "# Calculate the inertia for the range of K values\n",
    "for i in k:\n",
    "    km = KMeans(n_clusters=i, random_state=0)\n",
    "    km.fit(df_iris_pca)\n",
    "    ssq.append(km.inertia_)\n",
    "\n",
    "# Create the elbow curve\n",
    "elbow_data = {\"k\": k, \"inertia\": ssq}\n",
    "df_elbow = pd.DataFrame(elbow_data)\n",
    "df_elbow.hvplot.line(x=\"k\", y=\"inertia\", xticks=k, title=\"Elbow Curve\")\n",
    "\n",
    "# # Plot\n",
    "# plt.plot(list(sse.keys()), list(sse.values()))\n",
    "# plt.xlabel('k')\n",
    "# plt.ylabel('SSE')\n",
    "# plt.title('Elbow Method')\n",
    "# plt.show()"
   ]
  },
  {
   "cell_type": "markdown",
   "id": "03383fa7",
   "metadata": {},
   "source": [
    "Use the principal components data with the K-means algorithm with a K value of 3. We could consider 2, but the direction shifts more after 3:"
   ]
  },
  {
   "cell_type": "code",
   "execution_count": 13,
   "id": "d455726c",
   "metadata": {},
   "outputs": [
    {
     "data": {
      "text/html": [
       "<div>\n",
       "<style scoped>\n",
       "    .dataframe tbody tr th:only-of-type {\n",
       "        vertical-align: middle;\n",
       "    }\n",
       "\n",
       "    .dataframe tbody tr th {\n",
       "        vertical-align: top;\n",
       "    }\n",
       "\n",
       "    .dataframe thead th {\n",
       "        text-align: right;\n",
       "    }\n",
       "</style>\n",
       "<table border=\"1\" class=\"dataframe\">\n",
       "  <thead>\n",
       "    <tr style=\"text-align: right;\">\n",
       "      <th></th>\n",
       "      <th>principal component 1</th>\n",
       "      <th>principal component 2</th>\n",
       "      <th>class</th>\n",
       "    </tr>\n",
       "  </thead>\n",
       "  <tbody>\n",
       "    <tr>\n",
       "      <th>0</th>\n",
       "      <td>-2.264542</td>\n",
       "      <td>0.505704</td>\n",
       "      <td>0</td>\n",
       "    </tr>\n",
       "    <tr>\n",
       "      <th>1</th>\n",
       "      <td>-2.086426</td>\n",
       "      <td>-0.655405</td>\n",
       "      <td>0</td>\n",
       "    </tr>\n",
       "    <tr>\n",
       "      <th>2</th>\n",
       "      <td>-2.367950</td>\n",
       "      <td>-0.318477</td>\n",
       "      <td>0</td>\n",
       "    </tr>\n",
       "    <tr>\n",
       "      <th>3</th>\n",
       "      <td>-2.304197</td>\n",
       "      <td>-0.575368</td>\n",
       "      <td>0</td>\n",
       "    </tr>\n",
       "    <tr>\n",
       "      <th>4</th>\n",
       "      <td>-2.388777</td>\n",
       "      <td>0.674767</td>\n",
       "      <td>0</td>\n",
       "    </tr>\n",
       "    <tr>\n",
       "      <th>5</th>\n",
       "      <td>-2.070537</td>\n",
       "      <td>1.518549</td>\n",
       "      <td>0</td>\n",
       "    </tr>\n",
       "    <tr>\n",
       "      <th>6</th>\n",
       "      <td>-2.445711</td>\n",
       "      <td>0.074563</td>\n",
       "      <td>0</td>\n",
       "    </tr>\n",
       "    <tr>\n",
       "      <th>7</th>\n",
       "      <td>-2.233842</td>\n",
       "      <td>0.247614</td>\n",
       "      <td>0</td>\n",
       "    </tr>\n",
       "    <tr>\n",
       "      <th>8</th>\n",
       "      <td>-2.341958</td>\n",
       "      <td>-1.095146</td>\n",
       "      <td>0</td>\n",
       "    </tr>\n",
       "    <tr>\n",
       "      <th>9</th>\n",
       "      <td>-2.188676</td>\n",
       "      <td>-0.448629</td>\n",
       "      <td>0</td>\n",
       "    </tr>\n",
       "  </tbody>\n",
       "</table>\n",
       "</div>"
      ],
      "text/plain": [
       "   principal component 1  principal component 2  class\n",
       "0              -2.264542               0.505704      0\n",
       "1              -2.086426              -0.655405      0\n",
       "2              -2.367950              -0.318477      0\n",
       "3              -2.304197              -0.575368      0\n",
       "4              -2.388777               0.674767      0\n",
       "5              -2.070537               1.518549      0\n",
       "6              -2.445711               0.074563      0\n",
       "7              -2.233842               0.247614      0\n",
       "8              -2.341958              -1.095146      0\n",
       "9              -2.188676              -0.448629      0"
      ]
     },
     "execution_count": 13,
     "metadata": {},
     "output_type": "execute_result"
    }
   ],
   "source": [
    "# Initialize the K-means model\n",
    "model = KMeans(n_clusters=3, random_state=0)\n",
    "\n",
    "# Fit the model\n",
    "model.fit(df_iris_pca)\n",
    "\n",
    "# Predict clusters\n",
    "predictions = model.predict(df_iris_pca)\n",
    "\n",
    "# Add the predicted class columns\n",
    "df_iris_pca[\"class\"] = model.labels_\n",
    "df_iris_pca.head(10)"
   ]
  },
  {
   "cell_type": "code",
   "execution_count": 14,
   "id": "5ec1c697",
   "metadata": {},
   "outputs": [
    {
     "data": {},
     "metadata": {},
     "output_type": "display_data"
    },
    {
     "data": {
      "application/vnd.holoviews_exec.v0+json": "",
      "text/html": [
       "<div id='1220'>\n",
       "  <div class=\"bk-root\" id=\"0b74bc51-fb6a-4e46-9912-afdf772fef07\" data-root-id=\"1220\"></div>\n",
       "</div>\n",
       "<script type=\"application/javascript\">(function(root) {\n",
       "  function embed_document(root) {\n",
       "    var docs_json = {\"7ee292ee-d2d7-4d01-a306-c410d532b863\":{\"defs\":[{\"extends\":null,\"module\":null,\"name\":\"ReactiveHTML1\",\"overrides\":[],\"properties\":[]},{\"extends\":null,\"module\":null,\"name\":\"FlexBox1\",\"overrides\":[],\"properties\":[{\"default\":\"flex-start\",\"kind\":null,\"name\":\"align_content\"},{\"default\":\"flex-start\",\"kind\":null,\"name\":\"align_items\"},{\"default\":\"row\",\"kind\":null,\"name\":\"flex_direction\"},{\"default\":\"wrap\",\"kind\":null,\"name\":\"flex_wrap\"},{\"default\":\"flex-start\",\"kind\":null,\"name\":\"justify_content\"}]},{\"extends\":null,\"module\":null,\"name\":\"GridStack1\",\"overrides\":[],\"properties\":[{\"default\":\"warn\",\"kind\":null,\"name\":\"mode\"},{\"default\":null,\"kind\":null,\"name\":\"ncols\"},{\"default\":null,\"kind\":null,\"name\":\"nrows\"},{\"default\":true,\"kind\":null,\"name\":\"allow_resize\"},{\"default\":true,\"kind\":null,\"name\":\"allow_drag\"},{\"default\":[],\"kind\":null,\"name\":\"state\"}]},{\"extends\":null,\"module\":null,\"name\":\"click1\",\"overrides\":[],\"properties\":[{\"default\":\"\",\"kind\":null,\"name\":\"terminal_output\"},{\"default\":\"\",\"kind\":null,\"name\":\"debug_name\"},{\"default\":0,\"kind\":null,\"name\":\"clears\"}]},{\"extends\":null,\"module\":null,\"name\":\"NotificationAreaBase1\",\"overrides\":[],\"properties\":[{\"default\":\"bottom-right\",\"kind\":null,\"name\":\"position\"},{\"default\":0,\"kind\":null,\"name\":\"_clear\"}]},{\"extends\":null,\"module\":null,\"name\":\"NotificationArea1\",\"overrides\":[],\"properties\":[{\"default\":[],\"kind\":null,\"name\":\"notifications\"},{\"default\":\"bottom-right\",\"kind\":null,\"name\":\"position\"},{\"default\":0,\"kind\":null,\"name\":\"_clear\"},{\"default\":[{\"background\":\"#ffc107\",\"icon\":{\"className\":\"fas fa-exclamation-triangle\",\"color\":\"white\",\"tagName\":\"i\"},\"type\":\"warning\"},{\"background\":\"#007bff\",\"icon\":{\"className\":\"fas fa-info-circle\",\"color\":\"white\",\"tagName\":\"i\"},\"type\":\"info\"}],\"kind\":null,\"name\":\"types\"}]},{\"extends\":null,\"module\":null,\"name\":\"Notification\",\"overrides\":[],\"properties\":[{\"default\":null,\"kind\":null,\"name\":\"background\"},{\"default\":3000,\"kind\":null,\"name\":\"duration\"},{\"default\":null,\"kind\":null,\"name\":\"icon\"},{\"default\":\"\",\"kind\":null,\"name\":\"message\"},{\"default\":null,\"kind\":null,\"name\":\"notification_type\"},{\"default\":false,\"kind\":null,\"name\":\"_destroyed\"}]},{\"extends\":null,\"module\":null,\"name\":\"TemplateActions1\",\"overrides\":[],\"properties\":[{\"default\":0,\"kind\":null,\"name\":\"open_modal\"},{\"default\":0,\"kind\":null,\"name\":\"close_modal\"}]},{\"extends\":null,\"module\":null,\"name\":\"MaterialTemplateActions1\",\"overrides\":[],\"properties\":[{\"default\":0,\"kind\":null,\"name\":\"open_modal\"},{\"default\":0,\"kind\":null,\"name\":\"close_modal\"}]}],\"roots\":{\"references\":[{\"attributes\":{\"angle\":{\"value\":0.0},\"fill_alpha\":{\"value\":1.0},\"fill_color\":{\"value\":\"#30a2da\"},\"hatch_alpha\":{\"value\":1.0},\"hatch_color\":{\"value\":\"#30a2da\"},\"hatch_scale\":{\"value\":12.0},\"hatch_weight\":{\"value\":1.0},\"line_alpha\":{\"value\":1.0},\"line_cap\":{\"value\":\"butt\"},\"line_color\":{\"value\":\"#30a2da\"},\"line_dash\":{\"value\":[]},\"line_dash_offset\":{\"value\":0},\"line_join\":{\"value\":\"bevel\"},\"line_width\":{\"value\":1},\"marker\":{\"value\":\"circle\"},\"size\":{\"value\":5.477225575051661},\"x\":{\"field\":\"principal component 1\"},\"y\":{\"field\":\"principal component 2\"}},\"id\":\"1283\",\"type\":\"Scatter\"},{\"attributes\":{\"fill_alpha\":{\"value\":0.2},\"fill_color\":{\"value\":\"#fc4f30\"},\"hatch_alpha\":{\"value\":0.2},\"hatch_color\":{\"value\":\"#fc4f30\"},\"line_alpha\":{\"value\":0.2},\"line_color\":{\"value\":\"#fc4f30\"},\"size\":{\"value\":5.477225575051661},\"x\":{\"field\":\"principal component 1\"},\"y\":{\"field\":\"principal component 2\"}},\"id\":\"1289\",\"type\":\"Scatter\"},{\"attributes\":{\"children\":[{\"id\":\"1221\"},{\"id\":\"1227\"},{\"id\":\"1344\"}],\"margin\":[0,0,0,0],\"name\":\"Row01119\",\"tags\":[\"embedded\"]},\"id\":\"1220\",\"type\":\"Row\"},{\"attributes\":{\"fill_alpha\":{\"value\":0.2},\"fill_color\":{\"value\":\"#30a2da\"},\"hatch_alpha\":{\"value\":0.2},\"hatch_color\":{\"value\":\"#30a2da\"},\"line_alpha\":{\"value\":0.2},\"line_color\":{\"value\":\"#30a2da\"},\"size\":{\"value\":5.477225575051661},\"x\":{\"field\":\"principal component 1\"},\"y\":{\"field\":\"principal component 2\"}},\"id\":\"1268\",\"type\":\"Scatter\"},{\"attributes\":{\"fill_color\":{\"value\":\"#e5ae38\"},\"hatch_color\":{\"value\":\"#e5ae38\"},\"line_color\":{\"value\":\"#e5ae38\"},\"size\":{\"value\":5.477225575051661},\"x\":{\"field\":\"principal component 1\"},\"y\":{\"field\":\"principal component 2\"}},\"id\":\"1309\",\"type\":\"Scatter\"},{\"attributes\":{},\"id\":\"1245\",\"type\":\"PanTool\"},{\"attributes\":{\"axis_label\":\"principal component 1\",\"coordinates\":null,\"formatter\":{\"id\":\"1258\"},\"group\":null,\"major_label_policy\":{\"id\":\"1259\"},\"ticker\":{\"id\":\"1237\"}},\"id\":\"1236\",\"type\":\"LinearAxis\"},{\"attributes\":{},\"id\":\"1246\",\"type\":\"WheelZoomTool\"},{\"attributes\":{\"fill_color\":{\"value\":\"#30a2da\"},\"hatch_color\":{\"value\":\"#30a2da\"},\"line_color\":{\"value\":\"#30a2da\"},\"size\":{\"value\":5.477225575051661},\"x\":{\"field\":\"principal component 1\"},\"y\":{\"field\":\"principal component 2\"}},\"id\":\"1266\",\"type\":\"Scatter\"},{\"attributes\":{\"overlay\":{\"id\":\"1249\"}},\"id\":\"1247\",\"type\":\"BoxZoomTool\"},{\"attributes\":{\"click_policy\":\"mute\",\"coordinates\":null,\"group\":null,\"items\":[{\"id\":\"1282\"},{\"id\":\"1304\"},{\"id\":\"1328\"}],\"location\":[0,0],\"title\":\"class\"},\"id\":\"1281\",\"type\":\"Legend\"},{\"attributes\":{\"coordinates\":null,\"data_source\":{\"id\":\"1263\"},\"glyph\":{\"id\":\"1266\"},\"group\":null,\"hover_glyph\":null,\"muted_glyph\":{\"id\":\"1268\"},\"nonselection_glyph\":{\"id\":\"1267\"},\"selection_glyph\":{\"id\":\"1283\"},\"view\":{\"id\":\"1270\"}},\"id\":\"1269\",\"type\":\"GlyphRenderer\"},{\"attributes\":{\"data\":{\"class\":{\"__ndarray__\":\"AgAAAAIAAAACAAAAAgAAAAIAAAACAAAAAgAAAAIAAAACAAAAAgAAAAIAAAACAAAAAgAAAAIAAAACAAAAAgAAAAIAAAACAAAAAgAAAAIAAAACAAAAAgAAAAIAAAACAAAAAgAAAAIAAAACAAAAAgAAAAIAAAACAAAAAgAAAAIAAAACAAAAAgAAAAIAAAACAAAAAgAAAAIAAAACAAAAAgAAAAIAAAACAAAAAgAAAAIAAAACAAAAAgAAAAIAAAACAAAAAgAAAAIAAAACAAAAAgAAAAIAAAA=\",\"dtype\":\"int32\",\"order\":\"little\",\"shape\":[53]},\"principal component 1\":{\"__ndarray__\":\"hRWMhntt2T9KnJZFWCnxP26BHlf2mtg/7v4dZv7c379yGywXnaPtP8XCkDZaWXQ/2t2FPizsv7+zz+h8JxTcP1hNsk78puE/O0UqJwTz5j+sz63ghxOjv5xu06S8RdY/47Iv7V2iwz9o6iTH4XHzPzTYZACmFsQ/Wq1SDE473j8TyjX41qXzP40xy7fjI+Q/G9CK7kVq5j8hhVUnIzDlP8Ib1FJINai/YT98rN0cvz/BkFg5BOqMPyDf6GWaNc4/Ec1ZRTXo8D+tsJMoZVfMP9Kbvwf1kvA/t14TnFcrsT98NwN1kKDRP899yQ7wbdE/p43+VwPx4z+33kvRzh7VP8TEFNWD6de/2iTllsIb0j89X21EL8y2Pw0kQhu5t8w/9ARG5kBd4j/djFDrsj/dv+SA0gDGJNA/4l8IKHdz8j/+oUp+m+/WP1735HGkDPQ/HuKIxsts9z//RPpdThD0P5NitwdQKu8/9oqkmmBE9T9kfP3wHsDyP+D2a9zEx/E/LDazatUo8z+cvvFQw4ztP+JfCCh3c/I/TNVbMZXv+D872SvtkrLuPw==\",\"dtype\":\"float64\",\"order\":\"little\",\"shape\":[53]},\"principal component 2\":{\"__ndarray__\":\"ls0hw3Uh/L9/AFcJ4hrLv/UVlNb76eK/aZSza/eU/b/HjGFUCw+fP+zLA01tePC/94KEXbZDBcC49gYTsCWuv0vNqHx+XPy/2Xstxk+8x781LLY26rLbvxq+JkVKZsi/lonUeJ9N6b9l5T6HOSL6v8BAi9CC2fS/tgipiLWp2r9Kr8dW+Rvuv+fFU70Krdq/+DbCViNBsL9lGdg+X7fMv2sFEZBX6vC/b8J8cXkE+b9x1i92nSz5v0WekB1e1Oi/EC0SzX5h5L+Cbj2aaPnRv7yLs++KR/a/mMdo/yc3y79DZwsN7Ub1vysJ/oM76fG/6sUd1SI0nD9r68QlE6Xvv9LC5Ku5JADAqEs7dJBT67+wjkY+Z2PGv1T2R1TcWdi/eTq1mhitw7+5+86JpaH4v6l6HI5KEeO/UQhbdkNx5r9Flg29Jfb4v5QxaImirfK/sq9g7els3L9VKnQyOXv7v0rNWXwPR+K/QmwdsBUn37/G2YlbzWjUv/yTgLFv8dK/UK/b9jwm6r9SAFtSILGTP1EIW3ZDcea/xFrVOlT47L9+Ciw2mtGWvw==\",\"dtype\":\"float64\",\"order\":\"little\",\"shape\":[53]},\"principal_component_1\":{\"__ndarray__\":\"hRWMhntt2T9KnJZFWCnxP26BHlf2mtg/7v4dZv7c379yGywXnaPtP8XCkDZaWXQ/2t2FPizsv7+zz+h8JxTcP1hNsk78puE/O0UqJwTz5j+sz63ghxOjv5xu06S8RdY/47Iv7V2iwz9o6iTH4XHzPzTYZACmFsQ/Wq1SDE473j8TyjX41qXzP40xy7fjI+Q/G9CK7kVq5j8hhVUnIzDlP8Ib1FJINai/YT98rN0cvz/BkFg5BOqMPyDf6GWaNc4/Ec1ZRTXo8D+tsJMoZVfMP9Kbvwf1kvA/t14TnFcrsT98NwN1kKDRP899yQ7wbdE/p43+VwPx4z+33kvRzh7VP8TEFNWD6de/2iTllsIb0j89X21EL8y2Pw0kQhu5t8w/9ARG5kBd4j/djFDrsj/dv+SA0gDGJNA/4l8IKHdz8j/+oUp+m+/WP1735HGkDPQ/HuKIxsts9z//RPpdThD0P5NitwdQKu8/9oqkmmBE9T9kfP3wHsDyP+D2a9zEx/E/LDazatUo8z+cvvFQw4ztP+JfCCh3c/I/TNVbMZXv+D872SvtkrLuPw==\",\"dtype\":\"float64\",\"order\":\"little\",\"shape\":[53]},\"principal_component_2\":{\"__ndarray__\":\"ls0hw3Uh/L9/AFcJ4hrLv/UVlNb76eK/aZSza/eU/b/HjGFUCw+fP+zLA01tePC/94KEXbZDBcC49gYTsCWuv0vNqHx+XPy/2Xstxk+8x781LLY26rLbvxq+JkVKZsi/lonUeJ9N6b9l5T6HOSL6v8BAi9CC2fS/tgipiLWp2r9Kr8dW+Rvuv+fFU70Krdq/+DbCViNBsL9lGdg+X7fMv2sFEZBX6vC/b8J8cXkE+b9x1i92nSz5v0WekB1e1Oi/EC0SzX5h5L+Cbj2aaPnRv7yLs++KR/a/mMdo/yc3y79DZwsN7Ub1vysJ/oM76fG/6sUd1SI0nD9r68QlE6Xvv9LC5Ku5JADAqEs7dJBT67+wjkY+Z2PGv1T2R1TcWdi/eTq1mhitw7+5+86JpaH4v6l6HI5KEeO/UQhbdkNx5r9Flg29Jfb4v5QxaImirfK/sq9g7els3L9VKnQyOXv7v0rNWXwPR+K/QmwdsBUn37/G2YlbzWjUv/yTgLFv8dK/UK/b9jwm6r9SAFtSILGTP1EIW3ZDcea/xFrVOlT47L9+Ciw2mtGWvw==\",\"dtype\":\"float64\",\"order\":\"little\",\"shape\":[53]}},\"selected\":{\"id\":\"1307\"},\"selection_policy\":{\"id\":\"1325\"}},\"id\":\"1306\",\"type\":\"ColumnDataSource\"},{\"attributes\":{\"tools\":[{\"id\":\"1224\"},{\"id\":\"1244\"},{\"id\":\"1245\"},{\"id\":\"1246\"},{\"id\":\"1247\"},{\"id\":\"1248\"}]},\"id\":\"1250\",\"type\":\"Toolbar\"},{\"attributes\":{},\"id\":\"1325\",\"type\":\"UnionRenderers\"},{\"attributes\":{\"axis_label\":\"principal component 2\",\"coordinates\":null,\"formatter\":{\"id\":\"1261\"},\"group\":null,\"major_label_policy\":{\"id\":\"1262\"},\"ticker\":{\"id\":\"1241\"}},\"id\":\"1240\",\"type\":\"LinearAxis\"},{\"attributes\":{},\"id\":\"1264\",\"type\":\"Selection\"},{\"attributes\":{\"margin\":[5,5,5,5],\"name\":\"HSpacer01124\",\"sizing_mode\":\"stretch_width\"},\"id\":\"1344\",\"type\":\"Spacer\"},{\"attributes\":{\"angle\":{\"value\":0.0},\"fill_alpha\":{\"value\":1.0},\"fill_color\":{\"value\":\"#fc4f30\"},\"hatch_alpha\":{\"value\":1.0},\"hatch_color\":{\"value\":\"#fc4f30\"},\"hatch_scale\":{\"value\":12.0},\"hatch_weight\":{\"value\":1.0},\"line_alpha\":{\"value\":1.0},\"line_cap\":{\"value\":\"butt\"},\"line_color\":{\"value\":\"#fc4f30\"},\"line_dash\":{\"value\":[]},\"line_dash_offset\":{\"value\":0},\"line_join\":{\"value\":\"bevel\"},\"line_width\":{\"value\":1},\"marker\":{\"value\":\"circle\"},\"size\":{\"value\":5.477225575051661},\"x\":{\"field\":\"principal component 1\"},\"y\":{\"field\":\"principal component 2\"}},\"id\":\"1305\",\"type\":\"Scatter\"},{\"attributes\":{},\"id\":\"1248\",\"type\":\"ResetTool\"},{\"attributes\":{\"label\":{\"value\":\"0\"},\"renderers\":[{\"id\":\"1269\"}]},\"id\":\"1282\",\"type\":\"LegendItem\"},{\"attributes\":{},\"id\":\"1234\",\"type\":\"LinearScale\"},{\"attributes\":{\"coordinates\":null,\"group\":null,\"text_color\":\"black\",\"text_font_size\":\"12pt\"},\"id\":\"1228\",\"type\":\"Title\"},{\"attributes\":{\"fill_alpha\":{\"value\":0.2},\"fill_color\":{\"value\":\"#e5ae38\"},\"hatch_alpha\":{\"value\":0.2},\"hatch_color\":{\"value\":\"#e5ae38\"},\"line_alpha\":{\"value\":0.2},\"line_color\":{\"value\":\"#e5ae38\"},\"size\":{\"value\":5.477225575051661},\"x\":{\"field\":\"principal component 1\"},\"y\":{\"field\":\"principal component 2\"}},\"id\":\"1311\",\"type\":\"Scatter\"},{\"attributes\":{},\"id\":\"1262\",\"type\":\"AllLabels\"},{\"attributes\":{},\"id\":\"1232\",\"type\":\"LinearScale\"},{\"attributes\":{\"fill_alpha\":{\"value\":0.1},\"fill_color\":{\"value\":\"#30a2da\"},\"hatch_alpha\":{\"value\":0.1},\"hatch_color\":{\"value\":\"#30a2da\"},\"line_alpha\":{\"value\":0.1},\"line_color\":{\"value\":\"#30a2da\"},\"size\":{\"value\":5.477225575051661},\"x\":{\"field\":\"principal component 1\"},\"y\":{\"field\":\"principal component 2\"}},\"id\":\"1267\",\"type\":\"Scatter\"},{\"attributes\":{\"angle\":{\"value\":0.0},\"fill_alpha\":{\"value\":1.0},\"fill_color\":{\"value\":\"#e5ae38\"},\"hatch_alpha\":{\"value\":1.0},\"hatch_color\":{\"value\":\"#e5ae38\"},\"hatch_scale\":{\"value\":12.0},\"hatch_weight\":{\"value\":1.0},\"line_alpha\":{\"value\":1.0},\"line_cap\":{\"value\":\"butt\"},\"line_color\":{\"value\":\"#e5ae38\"},\"line_dash\":{\"value\":[]},\"line_dash_offset\":{\"value\":0},\"line_join\":{\"value\":\"bevel\"},\"line_width\":{\"value\":1},\"marker\":{\"value\":\"circle\"},\"size\":{\"value\":5.477225575051661},\"x\":{\"field\":\"principal component 1\"},\"y\":{\"field\":\"principal component 2\"}},\"id\":\"1329\",\"type\":\"Scatter\"},{\"attributes\":{},\"id\":\"1237\",\"type\":\"BasicTicker\"},{\"attributes\":{\"below\":[{\"id\":\"1236\"}],\"center\":[{\"id\":\"1239\"},{\"id\":\"1243\"}],\"height\":300,\"left\":[{\"id\":\"1240\"}],\"margin\":[5,5,5,5],\"min_border_bottom\":10,\"min_border_left\":10,\"min_border_right\":10,\"min_border_top\":10,\"renderers\":[{\"id\":\"1269\"},{\"id\":\"1290\"},{\"id\":\"1312\"}],\"right\":[{\"id\":\"1281\"}],\"sizing_mode\":\"fixed\",\"title\":{\"id\":\"1228\"},\"toolbar\":{\"id\":\"1250\"},\"width\":700,\"x_range\":{\"id\":\"1222\"},\"x_scale\":{\"id\":\"1232\"},\"y_range\":{\"id\":\"1223\"},\"y_scale\":{\"id\":\"1234\"}},\"id\":\"1227\",\"subtype\":\"Figure\",\"type\":\"Plot\"},{\"attributes\":{\"label\":{\"value\":\"2\"},\"renderers\":[{\"id\":\"1312\"}]},\"id\":\"1328\",\"type\":\"LegendItem\"},{\"attributes\":{},\"id\":\"1258\",\"type\":\"BasicTickFormatter\"},{\"attributes\":{},\"id\":\"1285\",\"type\":\"Selection\"},{\"attributes\":{\"data\":{\"class\":{\"__ndarray__\":\"AQAAAAEAAAABAAAAAQAAAAEAAAABAAAAAQAAAAEAAAABAAAAAQAAAAEAAAABAAAAAQAAAAEAAAABAAAAAQAAAAEAAAABAAAAAQAAAAEAAAABAAAAAQAAAAEAAAABAAAAAQAAAAEAAAABAAAAAQAAAAEAAAABAAAAAQAAAAEAAAABAAAAAQAAAAEAAAABAAAAAQAAAAEAAAABAAAAAQAAAAEAAAABAAAAAQAAAAEAAAABAAAAAQAAAAEAAAA=\",\"dtype\":\"int32\",\"order\":\"little\",\"shape\":[47]},\"principal component 1\":{\"__ndarray__\":\"c5icP/Wp8T/pdLjqfHDnP0pUdjeu3/M/kX2nUXn15z99t9eWSwfsPwfqCkTLn+c/aokX1wP06z/sYaNJSxH0PxdwyrRZu/U/YyqW1lWi2z+lboqoZcrwP2VoZCMRkP0/XaOtkJqmAUCwkwP82gT3P8Sof1zh4v0/dEK5SJgIBkDlZzhbjmwCQPYm68uNAwBAIk9oqvMjAkBti3vYw9r1P64QOb/Elfk/PK6UReUl/j8b0QQIDXj5P3odkBhdivc/QfYnSsB/A0AzhisDH3kKQJfn9rPvUgBAOC4taDwvB0BDqLnnkUT7P6gJnj3aUv8/IdLu7wVR8D+h2hYHfpP8P4AbVl0h1v0/ifhsDuZ7A0AztjE3VocCQGwtB9QUxP0/j042KVhoBkC0+a/eUEj5P/DOTXR+jfU/PgUQICao/T8PDMQGFyEAQLpqwqkqc/4/Og5TGLJYAEC6eb2NdgMAQPHgNY2o7f0/+IJComFV+D8P9OTEsgX2Pw==\",\"dtype\":\"float64\",\"order\":\"little\",\"shape\":[47]},\"principal component 2\":{\"__ndarray__\":\"4Hb2/Z2e6z8fPDfKBSjjP9/NPSGgrOM/t1+rWRnr6D9pOXqk51HgP5FBqiETwtk/ZZ7yIJwL0D/xh7BClya1v0steShkC9U/EQg+Gkhd6z/Fk6QJ17XgP4Usy2Xw5Os/DsTpFji+4T+YlDOr+pqpv/VEGSLnotI/pwetLdY66T9cO0mDhTXaP6+Qnq/nKee/xY2XATu+/j83oQKF0jTmP2p9L85taNu/d6dDi22E2j80fGgVRqrlPzg3rDJONNA/hDlsMT10BEDwhKQTDFhjv0l0hSJpCe0/epKR42l12T+UWt+y8znwP6CAK36oDfA/cKj7cmzHsD/gvEvBKb3Iv5TkXX2vxeE/6V7ipF+Szz8o4TWwbAIFQIqBO1NYo8e/Uys1XS0I6z+nj2oE2yjxPyH8A+M9Bts/wqTAq3yE5T/e+zteX4jjP+Z2Ilnq8+U/wSJfoH+r6z8/eOdp3MbwPwNEMiongNg/gttvjSkT0T8gLdG5BEPwPw==\",\"dtype\":\"float64\",\"order\":\"little\",\"shape\":[47]},\"principal_component_1\":{\"__ndarray__\":\"c5icP/Wp8T/pdLjqfHDnP0pUdjeu3/M/kX2nUXn15z99t9eWSwfsPwfqCkTLn+c/aokX1wP06z/sYaNJSxH0PxdwyrRZu/U/YyqW1lWi2z+lboqoZcrwP2VoZCMRkP0/XaOtkJqmAUCwkwP82gT3P8Sof1zh4v0/dEK5SJgIBkDlZzhbjmwCQPYm68uNAwBAIk9oqvMjAkBti3vYw9r1P64QOb/Elfk/PK6UReUl/j8b0QQIDXj5P3odkBhdivc/QfYnSsB/A0AzhisDH3kKQJfn9rPvUgBAOC4taDwvB0BDqLnnkUT7P6gJnj3aUv8/IdLu7wVR8D+h2hYHfpP8P4AbVl0h1v0/ifhsDuZ7A0AztjE3VocCQGwtB9QUxP0/j042KVhoBkC0+a/eUEj5P/DOTXR+jfU/PgUQICao/T8PDMQGFyEAQLpqwqkqc/4/Og5TGLJYAEC6eb2NdgMAQPHgNY2o7f0/+IJComFV+D8P9OTEsgX2Pw==\",\"dtype\":\"float64\",\"order\":\"little\",\"shape\":[47]},\"principal_component_2\":{\"__ndarray__\":\"4Hb2/Z2e6z8fPDfKBSjjP9/NPSGgrOM/t1+rWRnr6D9pOXqk51HgP5FBqiETwtk/ZZ7yIJwL0D/xh7BClya1v0steShkC9U/EQg+Gkhd6z/Fk6QJ17XgP4Usy2Xw5Os/DsTpFji+4T+YlDOr+pqpv/VEGSLnotI/pwetLdY66T9cO0mDhTXaP6+Qnq/nKee/xY2XATu+/j83oQKF0jTmP2p9L85taNu/d6dDi22E2j80fGgVRqrlPzg3rDJONNA/hDlsMT10BEDwhKQTDFhjv0l0hSJpCe0/epKR42l12T+UWt+y8znwP6CAK36oDfA/cKj7cmzHsD/gvEvBKb3Iv5TkXX2vxeE/6V7ipF+Szz8o4TWwbAIFQIqBO1NYo8e/Uys1XS0I6z+nj2oE2yjxPyH8A+M9Bts/wqTAq3yE5T/e+zteX4jjP+Z2Ilnq8+U/wSJfoH+r6z8/eOdp3MbwPwNEMiongNg/gttvjSkT0T8gLdG5BEPwPw==\",\"dtype\":\"float64\",\"order\":\"little\",\"shape\":[47]}},\"selected\":{\"id\":\"1285\"},\"selection_policy\":{\"id\":\"1301\"}},\"id\":\"1284\",\"type\":\"ColumnDataSource\"},{\"attributes\":{\"fill_color\":{\"value\":\"#fc4f30\"},\"hatch_color\":{\"value\":\"#fc4f30\"},\"line_color\":{\"value\":\"#fc4f30\"},\"size\":{\"value\":5.477225575051661},\"x\":{\"field\":\"principal component 1\"},\"y\":{\"field\":\"principal component 2\"}},\"id\":\"1287\",\"type\":\"Scatter\"},{\"attributes\":{\"coordinates\":null,\"data_source\":{\"id\":\"1284\"},\"glyph\":{\"id\":\"1287\"},\"group\":null,\"hover_glyph\":null,\"muted_glyph\":{\"id\":\"1289\"},\"nonselection_glyph\":{\"id\":\"1288\"},\"selection_glyph\":{\"id\":\"1305\"},\"view\":{\"id\":\"1291\"}},\"id\":\"1290\",\"type\":\"GlyphRenderer\"},{\"attributes\":{\"label\":{\"value\":\"1\"},\"renderers\":[{\"id\":\"1290\"}]},\"id\":\"1304\",\"type\":\"LegendItem\"},{\"attributes\":{\"fill_alpha\":{\"value\":0.1},\"fill_color\":{\"value\":\"#fc4f30\"},\"hatch_alpha\":{\"value\":0.1},\"hatch_color\":{\"value\":\"#fc4f30\"},\"line_alpha\":{\"value\":0.1},\"line_color\":{\"value\":\"#fc4f30\"},\"size\":{\"value\":5.477225575051661},\"x\":{\"field\":\"principal component 1\"},\"y\":{\"field\":\"principal component 2\"}},\"id\":\"1288\",\"type\":\"Scatter\"},{\"attributes\":{\"source\":{\"id\":\"1306\"}},\"id\":\"1313\",\"type\":\"CDSView\"},{\"attributes\":{\"source\":{\"id\":\"1263\"}},\"id\":\"1270\",\"type\":\"CDSView\"},{\"attributes\":{\"callback\":null,\"renderers\":[{\"id\":\"1269\"},{\"id\":\"1290\"},{\"id\":\"1312\"}],\"tags\":[\"hv_created\"],\"tooltips\":[[\"class\",\"@{class}\"],[\"principal component 1\",\"@{principal_component_1}\"],[\"principal component 2\",\"@{principal_component_2}\"]]},\"id\":\"1224\",\"type\":\"HoverTool\"},{\"attributes\":{\"end\":3.569854510235276,\"reset_end\":3.569854510235276,\"reset_start\":-3.0348831212643534,\"start\":-3.0348831212643534,\"tags\":[[[\"principal component 1\",\"principal component 1\",null]]]},\"id\":\"1222\",\"type\":\"Range1d\"},{\"attributes\":{\"end\":3.2604144520280935,\"reset_end\":3.2604144520280935,\"reset_start\":-3.1961060534153853,\"start\":-3.1961060534153853,\"tags\":[[[\"principal component 2\",\"principal component 2\",null]]]},\"id\":\"1223\",\"type\":\"Range1d\"},{\"attributes\":{},\"id\":\"1278\",\"type\":\"UnionRenderers\"},{\"attributes\":{},\"id\":\"1301\",\"type\":\"UnionRenderers\"},{\"attributes\":{\"fill_alpha\":{\"value\":0.1},\"fill_color\":{\"value\":\"#e5ae38\"},\"hatch_alpha\":{\"value\":0.1},\"hatch_color\":{\"value\":\"#e5ae38\"},\"line_alpha\":{\"value\":0.1},\"line_color\":{\"value\":\"#e5ae38\"},\"size\":{\"value\":5.477225575051661},\"x\":{\"field\":\"principal component 1\"},\"y\":{\"field\":\"principal component 2\"}},\"id\":\"1310\",\"type\":\"Scatter\"},{\"attributes\":{},\"id\":\"1244\",\"type\":\"SaveTool\"},{\"attributes\":{},\"id\":\"1307\",\"type\":\"Selection\"},{\"attributes\":{\"bottom_units\":\"screen\",\"coordinates\":null,\"fill_alpha\":0.5,\"fill_color\":\"lightgrey\",\"group\":null,\"left_units\":\"screen\",\"level\":\"overlay\",\"line_alpha\":1.0,\"line_color\":\"black\",\"line_dash\":[4,4],\"line_width\":2,\"right_units\":\"screen\",\"syncable\":false,\"top_units\":\"screen\"},\"id\":\"1249\",\"type\":\"BoxAnnotation\"},{\"attributes\":{\"axis\":{\"id\":\"1240\"},\"coordinates\":null,\"dimension\":1,\"grid_line_color\":null,\"group\":null,\"ticker\":null},\"id\":\"1243\",\"type\":\"Grid\"},{\"attributes\":{},\"id\":\"1241\",\"type\":\"BasicTicker\"},{\"attributes\":{},\"id\":\"1259\",\"type\":\"AllLabels\"},{\"attributes\":{\"coordinates\":null,\"data_source\":{\"id\":\"1306\"},\"glyph\":{\"id\":\"1309\"},\"group\":null,\"hover_glyph\":null,\"muted_glyph\":{\"id\":\"1311\"},\"nonselection_glyph\":{\"id\":\"1310\"},\"selection_glyph\":{\"id\":\"1329\"},\"view\":{\"id\":\"1313\"}},\"id\":\"1312\",\"type\":\"GlyphRenderer\"},{\"attributes\":{},\"id\":\"1261\",\"type\":\"BasicTickFormatter\"},{\"attributes\":{\"axis\":{\"id\":\"1236\"},\"coordinates\":null,\"grid_line_color\":null,\"group\":null,\"ticker\":null},\"id\":\"1239\",\"type\":\"Grid\"},{\"attributes\":{\"source\":{\"id\":\"1284\"}},\"id\":\"1291\",\"type\":\"CDSView\"},{\"attributes\":{\"margin\":[5,5,5,5],\"name\":\"HSpacer01123\",\"sizing_mode\":\"stretch_width\"},\"id\":\"1221\",\"type\":\"Spacer\"},{\"attributes\":{\"data\":{\"class\":{\"__ndarray__\":\"AAAAAAAAAAAAAAAAAAAAAAAAAAAAAAAAAAAAAAAAAAAAAAAAAAAAAAAAAAAAAAAAAAAAAAAAAAAAAAAAAAAAAAAAAAAAAAAAAAAAAAAAAAAAAAAAAAAAAAAAAAAAAAAAAAAAAAAAAAAAAAAAAAAAAAAAAAAAAAAAAAAAAAAAAAAAAAAAAAAAAAAAAAAAAAAAAAAAAAAAAAAAAAAAAAAAAAAAAAAAAAAAAAAAAAAAAAAAAAAAAAAAAAAAAAAAAAAAAAAAAAAAAAA=\",\"dtype\":\"int32\",\"order\":\"little\",\"shape\":[50]},\"principal component 1\":{\"__ndarray__\":\"SBG/DcgdAsCnflXa/7AAwDEtSgGQ8QLArnjV6/5uAsCBOOBfNxwDwLQJAJp1kADA7lhZG9GQA8C6vPx66N4BwLrvZ05UvALA5dUzb2iCAcDJACQK0k4BwIGPWzp4ngLAbkHW4evKAcBxYBiPIx4FwONkYiHQiQHA8cLFMQADAsDEicmkO58BwNXnRqd8hQHAGLKL2CBO/r9xMd43N7gCwDwu6+IFov6/KnpNIB2jAcAlHszufzEGwHWyHOBnIP2/dG9EsmPTAcBqStBn+E//v+oJWiugagDA0hcE6nVYAcD16Z27WB8BwCQNM3l7JgLA4OURJwwoAcC2CNRTnk/9v3qUD3eZ3QTAyoxIYeyAA8Dl1TNvaIIBwAjB4qBfsAHArAtPDPdaAMDl1TNvaIIBwJ/dMoLUfAPAViP02UddAcA+4QHLzkoCwGJzDEaD8v2/X/lj5HF2BMD9iQQfsG3/v/qHnMYlEQHAou7lFFWaAMDT+qMb0QwDwJNmoB9/LwPALposq3LQAcDfjpZMy6UBwA==\",\"dtype\":\"float64\",\"order\":\"little\",\"shape\":[50]},\"principal component 2\":{\"__ndarray__\":\"aO9787ku4D/iF8lWE/nkv4LYpqjuYdS/FCSQjGlp4r/T0afLsZflP7y+IZP5S/g/ICSoGooWsz9weXQ10LHPP9IIOjG4hfG/kU6pnFa23L9qMKXTKCHxPyK/qP2XTMQ/qao3kBix5r+OiXLvZwbuv9uryBtaPf4/lLWrfGrHBUBhjF03Ujj4PzX+/04udeA/9kk0V9Tl9j8opZIPTofyP2rAlsG9jNs/3PKSxId67j89u+o4P1TfPw/WDBwFVLs/QO1BJITCxD+6YRod23Pjv2mqjuRgBtE/bIxIfx6q4T/YGaA2hIvVP2lBWpX4JtS/TQayRej43r8Plx54QH/cP7lxJTRvQf0/xrJwma57AUCRTqmcVrbcvx/n16FhmMe/s+VDvSnr5T+RTqmcVrbcv37EP1q7Ouy/dESP1gm80j9UwmaGk/PdP4B/28YcnwLAse8l3FML3b9mssu+Q9XfP+7eGJkvvvI//Ywv2S8k5r9UqsG4/WjyP96ttwhpMde/eO6vZGBo8D+47UmWeoGgPw==\",\"dtype\":\"float64\",\"order\":\"little\",\"shape\":[50]},\"principal_component_1\":{\"__ndarray__\":\"SBG/DcgdAsCnflXa/7AAwDEtSgGQ8QLArnjV6/5uAsCBOOBfNxwDwLQJAJp1kADA7lhZG9GQA8C6vPx66N4BwLrvZ05UvALA5dUzb2iCAcDJACQK0k4BwIGPWzp4ngLAbkHW4evKAcBxYBiPIx4FwONkYiHQiQHA8cLFMQADAsDEicmkO58BwNXnRqd8hQHAGLKL2CBO/r9xMd43N7gCwDwu6+IFov6/KnpNIB2jAcAlHszufzEGwHWyHOBnIP2/dG9EsmPTAcBqStBn+E//v+oJWiugagDA0hcE6nVYAcD16Z27WB8BwCQNM3l7JgLA4OURJwwoAcC2CNRTnk/9v3qUD3eZ3QTAyoxIYeyAA8Dl1TNvaIIBwAjB4qBfsAHArAtPDPdaAMDl1TNvaIIBwJ/dMoLUfAPAViP02UddAcA+4QHLzkoCwGJzDEaD8v2/X/lj5HF2BMD9iQQfsG3/v/qHnMYlEQHAou7lFFWaAMDT+qMb0QwDwJNmoB9/LwPALposq3LQAcDfjpZMy6UBwA==\",\"dtype\":\"float64\",\"order\":\"little\",\"shape\":[50]},\"principal_component_2\":{\"__ndarray__\":\"aO9787ku4D/iF8lWE/nkv4LYpqjuYdS/FCSQjGlp4r/T0afLsZflP7y+IZP5S/g/ICSoGooWsz9weXQ10LHPP9IIOjG4hfG/kU6pnFa23L9qMKXTKCHxPyK/qP2XTMQ/qao3kBix5r+OiXLvZwbuv9uryBtaPf4/lLWrfGrHBUBhjF03Ujj4PzX+/04udeA/9kk0V9Tl9j8opZIPTofyP2rAlsG9jNs/3PKSxId67j89u+o4P1TfPw/WDBwFVLs/QO1BJITCxD+6YRod23Pjv2mqjuRgBtE/bIxIfx6q4T/YGaA2hIvVP2lBWpX4JtS/TQayRej43r8Plx54QH/cP7lxJTRvQf0/xrJwma57AUCRTqmcVrbcvx/n16FhmMe/s+VDvSnr5T+RTqmcVrbcv37EP1q7Ouy/dESP1gm80j9UwmaGk/PdP4B/28YcnwLAse8l3FML3b9mssu+Q9XfP+7eGJkvvvI//Ywv2S8k5r9UqsG4/WjyP96ttwhpMde/eO6vZGBo8D+47UmWeoGgPw==\",\"dtype\":\"float64\",\"order\":\"little\",\"shape\":[50]}},\"selected\":{\"id\":\"1264\"},\"selection_policy\":{\"id\":\"1278\"}},\"id\":\"1263\",\"type\":\"ColumnDataSource\"}],\"root_ids\":[\"1220\"]},\"title\":\"Bokeh Application\",\"version\":\"2.4.3\"}};\n",
       "    var render_items = [{\"docid\":\"7ee292ee-d2d7-4d01-a306-c410d532b863\",\"root_ids\":[\"1220\"],\"roots\":{\"1220\":\"0b74bc51-fb6a-4e46-9912-afdf772fef07\"}}];\n",
       "    root.Bokeh.embed.embed_items_notebook(docs_json, render_items);\n",
       "  }\n",
       "  if (root.Bokeh !== undefined && root.Bokeh.Panel !== undefined) {\n",
       "    embed_document(root);\n",
       "  } else {\n",
       "    var attempts = 0;\n",
       "    var timer = setInterval(function(root) {\n",
       "      if (root.Bokeh !== undefined && root.Bokeh.Panel !== undefined) {\n",
       "        clearInterval(timer);\n",
       "        embed_document(root);\n",
       "      } else if (document.readyState == \"complete\") {\n",
       "        attempts++;\n",
       "        if (attempts > 200) {\n",
       "          clearInterval(timer);\n",
       "          console.log(\"Bokeh: ERROR: Unable to run BokehJS code because BokehJS library is missing\");\n",
       "        }\n",
       "      }\n",
       "    }, 25, root)\n",
       "  }\n",
       "})(window);</script>"
      ],
      "text/plain": [
       ":NdOverlay   [class]\n",
       "   :Scatter   [principal component 1]   (principal component 2,class)"
      ]
     },
     "execution_count": 14,
     "metadata": {
      "application/vnd.holoviews_exec.v0+json": {
       "id": "1220"
      }
     },
     "output_type": "execute_result"
    }
   ],
   "source": [
    "# Plotting the clusters with 2 features\n",
    "df_iris_pca.hvplot.scatter(\n",
    "    x=\"principal component 1\",\n",
    "    y=\"principal component 2\",\n",
    "    hover_cols=[\"class\"],\n",
    "    by=\"class\",\n",
    ")"
   ]
  },
  {
   "cell_type": "code",
   "execution_count": 15,
   "id": "ea618969",
   "metadata": {},
   "outputs": [
    {
     "data": {
      "text/html": [
       "<div>\n",
       "<style scoped>\n",
       "    .dataframe tbody tr th:only-of-type {\n",
       "        vertical-align: middle;\n",
       "    }\n",
       "\n",
       "    .dataframe tbody tr th {\n",
       "        vertical-align: top;\n",
       "    }\n",
       "\n",
       "    .dataframe thead th {\n",
       "        text-align: right;\n",
       "    }\n",
       "</style>\n",
       "<table border=\"1\" class=\"dataframe\">\n",
       "  <thead>\n",
       "    <tr style=\"text-align: right;\">\n",
       "      <th></th>\n",
       "      <th>principal component 1</th>\n",
       "      <th>principal component 2</th>\n",
       "      <th>class</th>\n",
       "    </tr>\n",
       "  </thead>\n",
       "  <tbody>\n",
       "    <tr>\n",
       "      <th>0</th>\n",
       "      <td>-2.264542</td>\n",
       "      <td>0.505704</td>\n",
       "      <td>3</td>\n",
       "    </tr>\n",
       "    <tr>\n",
       "      <th>1</th>\n",
       "      <td>-2.086426</td>\n",
       "      <td>-0.655405</td>\n",
       "      <td>0</td>\n",
       "    </tr>\n",
       "    <tr>\n",
       "      <th>2</th>\n",
       "      <td>-2.367950</td>\n",
       "      <td>-0.318477</td>\n",
       "      <td>0</td>\n",
       "    </tr>\n",
       "    <tr>\n",
       "      <th>3</th>\n",
       "      <td>-2.304197</td>\n",
       "      <td>-0.575368</td>\n",
       "      <td>0</td>\n",
       "    </tr>\n",
       "    <tr>\n",
       "      <th>4</th>\n",
       "      <td>-2.388777</td>\n",
       "      <td>0.674767</td>\n",
       "      <td>3</td>\n",
       "    </tr>\n",
       "    <tr>\n",
       "      <th>5</th>\n",
       "      <td>-2.070537</td>\n",
       "      <td>1.518549</td>\n",
       "      <td>3</td>\n",
       "    </tr>\n",
       "    <tr>\n",
       "      <th>6</th>\n",
       "      <td>-2.445711</td>\n",
       "      <td>0.074563</td>\n",
       "      <td>0</td>\n",
       "    </tr>\n",
       "    <tr>\n",
       "      <th>7</th>\n",
       "      <td>-2.233842</td>\n",
       "      <td>0.247614</td>\n",
       "      <td>0</td>\n",
       "    </tr>\n",
       "    <tr>\n",
       "      <th>8</th>\n",
       "      <td>-2.341958</td>\n",
       "      <td>-1.095146</td>\n",
       "      <td>0</td>\n",
       "    </tr>\n",
       "    <tr>\n",
       "      <th>9</th>\n",
       "      <td>-2.188676</td>\n",
       "      <td>-0.448629</td>\n",
       "      <td>0</td>\n",
       "    </tr>\n",
       "  </tbody>\n",
       "</table>\n",
       "</div>"
      ],
      "text/plain": [
       "   principal component 1  principal component 2  class\n",
       "0              -2.264542               0.505704      3\n",
       "1              -2.086426              -0.655405      0\n",
       "2              -2.367950              -0.318477      0\n",
       "3              -2.304197              -0.575368      0\n",
       "4              -2.388777               0.674767      3\n",
       "5              -2.070537               1.518549      3\n",
       "6              -2.445711               0.074563      0\n",
       "7              -2.233842               0.247614      0\n",
       "8              -2.341958              -1.095146      0\n",
       "9              -2.188676              -0.448629      0"
      ]
     },
     "execution_count": 15,
     "metadata": {},
     "output_type": "execute_result"
    }
   ],
   "source": [
    "# Initialize the K-means model\n",
    "model = KMeans(n_clusters=5, random_state=0)\n",
    "\n",
    "# Fit the model\n",
    "model.fit(df_iris_pca)\n",
    "\n",
    "# Predict clusters\n",
    "predictions = model.predict(df_iris_pca)\n",
    "\n",
    "# Add the predicted class columns\n",
    "df_iris_pca[\"class\"] = model.labels_\n",
    "df_iris_pca.head(10)"
   ]
  },
  {
   "cell_type": "code",
   "execution_count": 16,
   "id": "7ee168ae",
   "metadata": {},
   "outputs": [
    {
     "data": {},
     "metadata": {},
     "output_type": "display_data"
    },
    {
     "data": {
      "application/vnd.holoviews_exec.v0+json": "",
      "text/html": [
       "<div id='1416'>\n",
       "  <div class=\"bk-root\" id=\"852679b9-1afa-4b0c-86fd-c025e6b33c4b\" data-root-id=\"1416\"></div>\n",
       "</div>\n",
       "<script type=\"application/javascript\">(function(root) {\n",
       "  function embed_document(root) {\n",
       "    var docs_json = {\"5b1867bf-5c68-48e0-861d-4af6639f2205\":{\"defs\":[{\"extends\":null,\"module\":null,\"name\":\"ReactiveHTML1\",\"overrides\":[],\"properties\":[]},{\"extends\":null,\"module\":null,\"name\":\"FlexBox1\",\"overrides\":[],\"properties\":[{\"default\":\"flex-start\",\"kind\":null,\"name\":\"align_content\"},{\"default\":\"flex-start\",\"kind\":null,\"name\":\"align_items\"},{\"default\":\"row\",\"kind\":null,\"name\":\"flex_direction\"},{\"default\":\"wrap\",\"kind\":null,\"name\":\"flex_wrap\"},{\"default\":\"flex-start\",\"kind\":null,\"name\":\"justify_content\"}]},{\"extends\":null,\"module\":null,\"name\":\"GridStack1\",\"overrides\":[],\"properties\":[{\"default\":\"warn\",\"kind\":null,\"name\":\"mode\"},{\"default\":null,\"kind\":null,\"name\":\"ncols\"},{\"default\":null,\"kind\":null,\"name\":\"nrows\"},{\"default\":true,\"kind\":null,\"name\":\"allow_resize\"},{\"default\":true,\"kind\":null,\"name\":\"allow_drag\"},{\"default\":[],\"kind\":null,\"name\":\"state\"}]},{\"extends\":null,\"module\":null,\"name\":\"click1\",\"overrides\":[],\"properties\":[{\"default\":\"\",\"kind\":null,\"name\":\"terminal_output\"},{\"default\":\"\",\"kind\":null,\"name\":\"debug_name\"},{\"default\":0,\"kind\":null,\"name\":\"clears\"}]},{\"extends\":null,\"module\":null,\"name\":\"NotificationAreaBase1\",\"overrides\":[],\"properties\":[{\"default\":\"bottom-right\",\"kind\":null,\"name\":\"position\"},{\"default\":0,\"kind\":null,\"name\":\"_clear\"}]},{\"extends\":null,\"module\":null,\"name\":\"NotificationArea1\",\"overrides\":[],\"properties\":[{\"default\":[],\"kind\":null,\"name\":\"notifications\"},{\"default\":\"bottom-right\",\"kind\":null,\"name\":\"position\"},{\"default\":0,\"kind\":null,\"name\":\"_clear\"},{\"default\":[{\"background\":\"#ffc107\",\"icon\":{\"className\":\"fas fa-exclamation-triangle\",\"color\":\"white\",\"tagName\":\"i\"},\"type\":\"warning\"},{\"background\":\"#007bff\",\"icon\":{\"className\":\"fas fa-info-circle\",\"color\":\"white\",\"tagName\":\"i\"},\"type\":\"info\"}],\"kind\":null,\"name\":\"types\"}]},{\"extends\":null,\"module\":null,\"name\":\"Notification\",\"overrides\":[],\"properties\":[{\"default\":null,\"kind\":null,\"name\":\"background\"},{\"default\":3000,\"kind\":null,\"name\":\"duration\"},{\"default\":null,\"kind\":null,\"name\":\"icon\"},{\"default\":\"\",\"kind\":null,\"name\":\"message\"},{\"default\":null,\"kind\":null,\"name\":\"notification_type\"},{\"default\":false,\"kind\":null,\"name\":\"_destroyed\"}]},{\"extends\":null,\"module\":null,\"name\":\"TemplateActions1\",\"overrides\":[],\"properties\":[{\"default\":0,\"kind\":null,\"name\":\"open_modal\"},{\"default\":0,\"kind\":null,\"name\":\"close_modal\"}]},{\"extends\":null,\"module\":null,\"name\":\"MaterialTemplateActions1\",\"overrides\":[],\"properties\":[{\"default\":0,\"kind\":null,\"name\":\"open_modal\"},{\"default\":0,\"kind\":null,\"name\":\"close_modal\"}]}],\"roots\":{\"references\":[{\"attributes\":{\"fill_color\":{\"value\":\"#fc4f30\"},\"hatch_color\":{\"value\":\"#fc4f30\"},\"line_color\":{\"value\":\"#fc4f30\"},\"size\":{\"value\":5.477225575051661},\"x\":{\"field\":\"principal component 1\"},\"y\":{\"field\":\"principal component 2\"}},\"id\":\"1485\",\"type\":\"Scatter\"},{\"attributes\":{},\"id\":\"1459\",\"type\":\"BasicTickFormatter\"},{\"attributes\":{},\"id\":\"1549\",\"type\":\"UnionRenderers\"},{\"attributes\":{\"angle\":{\"value\":0.0},\"fill_alpha\":{\"value\":1.0},\"fill_color\":{\"value\":\"#30a2da\"},\"hatch_alpha\":{\"value\":1.0},\"hatch_color\":{\"value\":\"#30a2da\"},\"hatch_scale\":{\"value\":12.0},\"hatch_weight\":{\"value\":1.0},\"line_alpha\":{\"value\":1.0},\"line_cap\":{\"value\":\"butt\"},\"line_color\":{\"value\":\"#30a2da\"},\"line_dash\":{\"value\":[]},\"line_dash_offset\":{\"value\":0},\"line_join\":{\"value\":\"bevel\"},\"line_width\":{\"value\":1},\"marker\":{\"value\":\"circle\"},\"size\":{\"value\":5.477225575051661},\"x\":{\"field\":\"principal component 1\"},\"y\":{\"field\":\"principal component 2\"}},\"id\":\"1481\",\"type\":\"Scatter\"},{\"attributes\":{},\"id\":\"1555\",\"type\":\"Selection\"},{\"attributes\":{\"label\":{\"value\":\"1\"},\"renderers\":[{\"id\":\"1488\"}]},\"id\":\"1502\",\"type\":\"LegendItem\"},{\"attributes\":{\"source\":{\"id\":\"1528\"}},\"id\":\"1535\",\"type\":\"CDSView\"},{\"attributes\":{\"callback\":null,\"renderers\":[{\"id\":\"1467\"},{\"id\":\"1488\"},{\"id\":\"1510\"},{\"id\":\"1534\"},{\"id\":\"1560\"}],\"tags\":[\"hv_created\"],\"tooltips\":[[\"class\",\"@{class}\"],[\"principal component 1\",\"@{principal_component_1}\"],[\"principal component 2\",\"@{principal_component_2}\"]]},\"id\":\"1420\",\"type\":\"HoverTool\"},{\"attributes\":{\"label\":{\"value\":\"3\"},\"renderers\":[{\"id\":\"1534\"}]},\"id\":\"1552\",\"type\":\"LegendItem\"},{\"attributes\":{},\"id\":\"1476\",\"type\":\"UnionRenderers\"},{\"attributes\":{\"tools\":[{\"id\":\"1420\"},{\"id\":\"1442\"},{\"id\":\"1443\"},{\"id\":\"1444\"},{\"id\":\"1445\"},{\"id\":\"1446\"}]},\"id\":\"1448\",\"type\":\"Toolbar\"},{\"attributes\":{\"end\":3.2604144520280935,\"reset_end\":3.2604144520280935,\"reset_start\":-3.1961060534153853,\"start\":-3.1961060534153853,\"tags\":[[[\"principal component 2\",\"principal component 2\",null]]]},\"id\":\"1419\",\"type\":\"Range1d\"},{\"attributes\":{\"children\":[{\"id\":\"1417\"},{\"id\":\"1425\"},{\"id\":\"1600\"}],\"margin\":[0,0,0,0],\"name\":\"Row01362\",\"tags\":[\"embedded\"]},\"id\":\"1416\",\"type\":\"Row\"},{\"attributes\":{},\"id\":\"1499\",\"type\":\"UnionRenderers\"},{\"attributes\":{\"margin\":[5,5,5,5],\"name\":\"HSpacer01366\",\"sizing_mode\":\"stretch_width\"},\"id\":\"1417\",\"type\":\"Spacer\"},{\"attributes\":{\"angle\":{\"value\":0.0},\"fill_alpha\":{\"value\":1.0},\"fill_color\":{\"value\":\"#6d904f\"},\"hatch_alpha\":{\"value\":1.0},\"hatch_color\":{\"value\":\"#6d904f\"},\"hatch_scale\":{\"value\":12.0},\"hatch_weight\":{\"value\":1.0},\"line_alpha\":{\"value\":1.0},\"line_cap\":{\"value\":\"butt\"},\"line_color\":{\"value\":\"#6d904f\"},\"line_dash\":{\"value\":[]},\"line_dash_offset\":{\"value\":0},\"line_join\":{\"value\":\"bevel\"},\"line_width\":{\"value\":1},\"marker\":{\"value\":\"circle\"},\"size\":{\"value\":5.477225575051661},\"x\":{\"field\":\"principal component 1\"},\"y\":{\"field\":\"principal component 2\"}},\"id\":\"1553\",\"type\":\"Scatter\"},{\"attributes\":{\"source\":{\"id\":\"1504\"}},\"id\":\"1511\",\"type\":\"CDSView\"},{\"attributes\":{\"source\":{\"id\":\"1554\"}},\"id\":\"1561\",\"type\":\"CDSView\"},{\"attributes\":{\"data\":{\"class\":{\"__ndarray__\":\"AAAAAAAAAAAAAAAAAAAAAAAAAAAAAAAAAAAAAAAAAAAAAAAAAAAAAAAAAAAAAAAAAAAAAAAAAAAAAAAAAAAAAAAAAAAAAAAAAAAAAAAAAAAAAAAAAAAAAAAAAAAAAAAA\",\"dtype\":\"int32\",\"order\":\"little\",\"shape\":[24]},\"principal component 1\":{\"__ndarray__\":\"p35V2v+wAMAxLUoBkPECwK541ev+bgLA7lhZG9GQA8C6vPx66N4BwLrvZ05UvALA5dUzb2iCAcCBj1s6eJ4CwG5B1uHrygHAcWAYjyMeBcB1shzgZyD9v3RvRLJj0wHAakrQZ/hP/78kDTN5eyYCwODlEScMKAHA5dUzb2iCAcAIweKgX7ABwOXVM29oggHAn90ygtR8A8BicwxGg/L9v1/5Y+RxdgTAou7lFFWaAMCTZqAffy8DwN+OlkzLpQHA\",\"dtype\":\"float64\",\"order\":\"little\",\"shape\":[24]},\"principal component 2\":{\"__ndarray__\":\"4hfJVhP55L+C2Kao7mHUvxQkkIxpaeK/ICSoGooWsz9weXQ10LHPP9IIOjG4hfG/kU6pnFa23L8iv6j9l0zEP6mqN5AYsea/joly72cG7r8P1gwcBVS7P0DtQSSEwsQ/umEaHdtz479pQVqV+CbUv00GskXo+N6/kU6pnFa23L8f59ehYZjHv5FOqZxWtty/fsQ/Wrs67L+Af9vGHJ8CwLHvJdxTC92//Ywv2S8k5r/erbcIaTHXv7jtSZZ6gaA/\",\"dtype\":\"float64\",\"order\":\"little\",\"shape\":[24]},\"principal_component_1\":{\"__ndarray__\":\"p35V2v+wAMAxLUoBkPECwK541ev+bgLA7lhZG9GQA8C6vPx66N4BwLrvZ05UvALA5dUzb2iCAcCBj1s6eJ4CwG5B1uHrygHAcWAYjyMeBcB1shzgZyD9v3RvRLJj0wHAakrQZ/hP/78kDTN5eyYCwODlEScMKAHA5dUzb2iCAcAIweKgX7ABwOXVM29oggHAn90ygtR8A8BicwxGg/L9v1/5Y+RxdgTAou7lFFWaAMCTZqAffy8DwN+OlkzLpQHA\",\"dtype\":\"float64\",\"order\":\"little\",\"shape\":[24]},\"principal_component_2\":{\"__ndarray__\":\"4hfJVhP55L+C2Kao7mHUvxQkkIxpaeK/ICSoGooWsz9weXQ10LHPP9IIOjG4hfG/kU6pnFa23L8iv6j9l0zEP6mqN5AYsea/joly72cG7r8P1gwcBVS7P0DtQSSEwsQ/umEaHdtz479pQVqV+CbUv00GskXo+N6/kU6pnFa23L8f59ehYZjHv5FOqZxWtty/fsQ/Wrs67L+Af9vGHJ8CwLHvJdxTC92//Ywv2S8k5r/erbcIaTHXv7jtSZZ6gaA/\",\"dtype\":\"float64\",\"order\":\"little\",\"shape\":[24]}},\"selected\":{\"id\":\"1462\"},\"selection_policy\":{\"id\":\"1476\"}},\"id\":\"1461\",\"type\":\"ColumnDataSource\"},{\"attributes\":{\"source\":{\"id\":\"1482\"}},\"id\":\"1489\",\"type\":\"CDSView\"},{\"attributes\":{\"axis\":{\"id\":\"1438\"},\"coordinates\":null,\"dimension\":1,\"grid_line_color\":null,\"group\":null,\"ticker\":null},\"id\":\"1441\",\"type\":\"Grid\"},{\"attributes\":{\"fill_color\":{\"value\":\"#8b8b8b\"},\"hatch_color\":{\"value\":\"#8b8b8b\"},\"line_color\":{\"value\":\"#8b8b8b\"},\"size\":{\"value\":5.477225575051661},\"x\":{\"field\":\"principal component 1\"},\"y\":{\"field\":\"principal component 2\"}},\"id\":\"1557\",\"type\":\"Scatter\"},{\"attributes\":{\"click_policy\":\"mute\",\"coordinates\":null,\"group\":null,\"items\":[{\"id\":\"1480\"},{\"id\":\"1502\"},{\"id\":\"1526\"},{\"id\":\"1552\"},{\"id\":\"1580\"}],\"location\":[0,0],\"title\":\"class\"},\"id\":\"1479\",\"type\":\"Legend\"},{\"attributes\":{\"fill_alpha\":{\"value\":0.2},\"fill_color\":{\"value\":\"#30a2da\"},\"hatch_alpha\":{\"value\":0.2},\"hatch_color\":{\"value\":\"#30a2da\"},\"line_alpha\":{\"value\":0.2},\"line_color\":{\"value\":\"#30a2da\"},\"size\":{\"value\":5.477225575051661},\"x\":{\"field\":\"principal component 1\"},\"y\":{\"field\":\"principal component 2\"}},\"id\":\"1466\",\"type\":\"Scatter\"},{\"attributes\":{\"fill_alpha\":{\"value\":0.2},\"fill_color\":{\"value\":\"#8b8b8b\"},\"hatch_alpha\":{\"value\":0.2},\"hatch_color\":{\"value\":\"#8b8b8b\"},\"line_alpha\":{\"value\":0.2},\"line_color\":{\"value\":\"#8b8b8b\"},\"size\":{\"value\":5.477225575051661},\"x\":{\"field\":\"principal component 1\"},\"y\":{\"field\":\"principal component 2\"}},\"id\":\"1559\",\"type\":\"Scatter\"},{\"attributes\":{},\"id\":\"1457\",\"type\":\"AllLabels\"},{\"attributes\":{},\"id\":\"1483\",\"type\":\"Selection\"},{\"attributes\":{\"below\":[{\"id\":\"1434\"}],\"center\":[{\"id\":\"1437\"},{\"id\":\"1441\"}],\"height\":300,\"left\":[{\"id\":\"1438\"}],\"margin\":[5,5,5,5],\"min_border_bottom\":10,\"min_border_left\":10,\"min_border_right\":10,\"min_border_top\":10,\"renderers\":[{\"id\":\"1467\"},{\"id\":\"1488\"},{\"id\":\"1510\"},{\"id\":\"1534\"},{\"id\":\"1560\"}],\"right\":[{\"id\":\"1479\"}],\"sizing_mode\":\"fixed\",\"title\":{\"id\":\"1426\"},\"toolbar\":{\"id\":\"1448\"},\"width\":700,\"x_range\":{\"id\":\"1418\"},\"x_scale\":{\"id\":\"1430\"},\"y_range\":{\"id\":\"1419\"},\"y_scale\":{\"id\":\"1432\"}},\"id\":\"1425\",\"subtype\":\"Figure\",\"type\":\"Plot\"},{\"attributes\":{\"axis_label\":\"principal component 1\",\"coordinates\":null,\"formatter\":{\"id\":\"1456\"},\"group\":null,\"major_label_policy\":{\"id\":\"1457\"},\"ticker\":{\"id\":\"1435\"}},\"id\":\"1434\",\"type\":\"LinearAxis\"},{\"attributes\":{\"data\":{\"class\":{\"__ndarray__\":\"BAAAAAQAAAAEAAAABAAAAAQAAAAEAAAABAAAAAQAAAAEAAAABAAAAAQAAAAEAAAABAAAAAQAAAAEAAAABAAAAAQAAAAEAAAA\",\"dtype\":\"int32\",\"order\":\"little\",\"shape\":[18]},\"principal component 1\":{\"__ndarray__\":\"hRWMhntt2T/u/h1m/tzfv8XCkDZaWXQ/2t2FPizsv79YTbJO/KbhP2jqJMfhcfM/NNhkAKYWxD/CG9RSSDWov2E/fKzdHL8/wZBYOQTqjD/Sm78H9ZLwP3w3A3WQoNE/z33JDvBt0T+33kvRzh7VP8TEFNWD6de/3YxQ67I/3b/+oUp+m+/WP/9E+l1OEPQ/\",\"dtype\":\"float64\",\"order\":\"little\",\"shape\":[18]},\"principal component 2\":{\"__ndarray__\":\"ls0hw3Uh/L9plLNr95T9v+zLA01tePC/94KEXbZDBcBLzah8flz8v2XlPoc5Ivq/wECL0ILZ9L9rBRGQV+rwv2/CfHF5BPm/cdYvdp0s+b+8i7Pvikf2v0NnCw3tRvW/Kwn+gzvp8b9r68QlE6Xvv9LC5Ku5JADAufvOiaWh+L9Flg29Jfb4v1UqdDI5e/u/\",\"dtype\":\"float64\",\"order\":\"little\",\"shape\":[18]},\"principal_component_1\":{\"__ndarray__\":\"hRWMhntt2T/u/h1m/tzfv8XCkDZaWXQ/2t2FPizsv79YTbJO/KbhP2jqJMfhcfM/NNhkAKYWxD/CG9RSSDWov2E/fKzdHL8/wZBYOQTqjD/Sm78H9ZLwP3w3A3WQoNE/z33JDvBt0T+33kvRzh7VP8TEFNWD6de/3YxQ67I/3b/+oUp+m+/WP/9E+l1OEPQ/\",\"dtype\":\"float64\",\"order\":\"little\",\"shape\":[18]},\"principal_component_2\":{\"__ndarray__\":\"ls0hw3Uh/L9plLNr95T9v+zLA01tePC/94KEXbZDBcBLzah8flz8v2XlPoc5Ivq/wECL0ILZ9L9rBRGQV+rwv2/CfHF5BPm/cdYvdp0s+b+8i7Pvikf2v0NnCw3tRvW/Kwn+gzvp8b9r68QlE6Xvv9LC5Ku5JADAufvOiaWh+L9Flg29Jfb4v1UqdDI5e/u/\",\"dtype\":\"float64\",\"order\":\"little\",\"shape\":[18]}},\"selected\":{\"id\":\"1555\"},\"selection_policy\":{\"id\":\"1577\"}},\"id\":\"1554\",\"type\":\"ColumnDataSource\"},{\"attributes\":{\"coordinates\":null,\"data_source\":{\"id\":\"1482\"},\"glyph\":{\"id\":\"1485\"},\"group\":null,\"hover_glyph\":null,\"muted_glyph\":{\"id\":\"1487\"},\"nonselection_glyph\":{\"id\":\"1486\"},\"selection_glyph\":{\"id\":\"1503\"},\"view\":{\"id\":\"1489\"}},\"id\":\"1488\",\"type\":\"GlyphRenderer\"},{\"attributes\":{\"fill_alpha\":{\"value\":0.1},\"fill_color\":{\"value\":\"#30a2da\"},\"hatch_alpha\":{\"value\":0.1},\"hatch_color\":{\"value\":\"#30a2da\"},\"line_alpha\":{\"value\":0.1},\"line_color\":{\"value\":\"#30a2da\"},\"size\":{\"value\":5.477225575051661},\"x\":{\"field\":\"principal component 1\"},\"y\":{\"field\":\"principal component 2\"}},\"id\":\"1465\",\"type\":\"Scatter\"},{\"attributes\":{\"fill_alpha\":{\"value\":0.1},\"fill_color\":{\"value\":\"#fc4f30\"},\"hatch_alpha\":{\"value\":0.1},\"hatch_color\":{\"value\":\"#fc4f30\"},\"line_alpha\":{\"value\":0.1},\"line_color\":{\"value\":\"#fc4f30\"},\"size\":{\"value\":5.477225575051661},\"x\":{\"field\":\"principal component 1\"},\"y\":{\"field\":\"principal component 2\"}},\"id\":\"1486\",\"type\":\"Scatter\"},{\"attributes\":{\"coordinates\":null,\"group\":null,\"text_color\":\"black\",\"text_font_size\":\"12pt\"},\"id\":\"1426\",\"type\":\"Title\"},{\"attributes\":{\"data\":{\"class\":{\"__ndarray__\":\"AQAAAAEAAAABAAAAAQAAAAEAAAABAAAAAQAAAAEAAAABAAAAAQAAAAEAAAABAAAAAQAAAAEAAAABAAAAAQAAAAEAAAABAAAAAQAAAAEAAAABAAAAAQAAAAEAAAABAAAAAQAAAAEAAAABAAAAAQAAAAEAAAABAAAAAQAAAAEAAAABAAAAAQAAAAEAAAABAAAAAQAAAAEAAAABAAAAAQAAAAEAAAABAAAAAQAAAAEAAAABAAAAAQAAAAEAAAA=\",\"dtype\":\"int32\",\"order\":\"little\",\"shape\":[47]},\"principal component 1\":{\"__ndarray__\":\"c5icP/Wp8T/pdLjqfHDnP0pUdjeu3/M/kX2nUXn15z99t9eWSwfsPwfqCkTLn+c/aokX1wP06z/sYaNJSxH0PxdwyrRZu/U/YyqW1lWi2z+lboqoZcrwP2VoZCMRkP0/XaOtkJqmAUCwkwP82gT3P8Sof1zh4v0/dEK5SJgIBkDlZzhbjmwCQPYm68uNAwBAIk9oqvMjAkBti3vYw9r1P64QOb/Elfk/PK6UReUl/j8b0QQIDXj5P3odkBhdivc/QfYnSsB/A0AzhisDH3kKQJfn9rPvUgBAOC4taDwvB0BDqLnnkUT7P6gJnj3aUv8/IdLu7wVR8D+h2hYHfpP8P4AbVl0h1v0/ifhsDuZ7A0AztjE3VocCQGwtB9QUxP0/j042KVhoBkC0+a/eUEj5P/DOTXR+jfU/PgUQICao/T8PDMQGFyEAQLpqwqkqc/4/Og5TGLJYAEC6eb2NdgMAQPHgNY2o7f0/+IJComFV+D8P9OTEsgX2Pw==\",\"dtype\":\"float64\",\"order\":\"little\",\"shape\":[47]},\"principal component 2\":{\"__ndarray__\":\"4Hb2/Z2e6z8fPDfKBSjjP9/NPSGgrOM/t1+rWRnr6D9pOXqk51HgP5FBqiETwtk/ZZ7yIJwL0D/xh7BClya1v0steShkC9U/EQg+Gkhd6z/Fk6QJ17XgP4Usy2Xw5Os/DsTpFji+4T+YlDOr+pqpv/VEGSLnotI/pwetLdY66T9cO0mDhTXaP6+Qnq/nKee/xY2XATu+/j83oQKF0jTmP2p9L85taNu/d6dDi22E2j80fGgVRqrlPzg3rDJONNA/hDlsMT10BEDwhKQTDFhjv0l0hSJpCe0/epKR42l12T+UWt+y8znwP6CAK36oDfA/cKj7cmzHsD/gvEvBKb3Iv5TkXX2vxeE/6V7ipF+Szz8o4TWwbAIFQIqBO1NYo8e/Uys1XS0I6z+nj2oE2yjxPyH8A+M9Bts/wqTAq3yE5T/e+zteX4jjP+Z2Ilnq8+U/wSJfoH+r6z8/eOdp3MbwPwNEMiongNg/gttvjSkT0T8gLdG5BEPwPw==\",\"dtype\":\"float64\",\"order\":\"little\",\"shape\":[47]},\"principal_component_1\":{\"__ndarray__\":\"c5icP/Wp8T/pdLjqfHDnP0pUdjeu3/M/kX2nUXn15z99t9eWSwfsPwfqCkTLn+c/aokX1wP06z/sYaNJSxH0PxdwyrRZu/U/YyqW1lWi2z+lboqoZcrwP2VoZCMRkP0/XaOtkJqmAUCwkwP82gT3P8Sof1zh4v0/dEK5SJgIBkDlZzhbjmwCQPYm68uNAwBAIk9oqvMjAkBti3vYw9r1P64QOb/Elfk/PK6UReUl/j8b0QQIDXj5P3odkBhdivc/QfYnSsB/A0AzhisDH3kKQJfn9rPvUgBAOC4taDwvB0BDqLnnkUT7P6gJnj3aUv8/IdLu7wVR8D+h2hYHfpP8P4AbVl0h1v0/ifhsDuZ7A0AztjE3VocCQGwtB9QUxP0/j042KVhoBkC0+a/eUEj5P/DOTXR+jfU/PgUQICao/T8PDMQGFyEAQLpqwqkqc/4/Og5TGLJYAEC6eb2NdgMAQPHgNY2o7f0/+IJComFV+D8P9OTEsgX2Pw==\",\"dtype\":\"float64\",\"order\":\"little\",\"shape\":[47]},\"principal_component_2\":{\"__ndarray__\":\"4Hb2/Z2e6z8fPDfKBSjjP9/NPSGgrOM/t1+rWRnr6D9pOXqk51HgP5FBqiETwtk/ZZ7yIJwL0D/xh7BClya1v0steShkC9U/EQg+Gkhd6z/Fk6QJ17XgP4Usy2Xw5Os/DsTpFji+4T+YlDOr+pqpv/VEGSLnotI/pwetLdY66T9cO0mDhTXaP6+Qnq/nKee/xY2XATu+/j83oQKF0jTmP2p9L85taNu/d6dDi22E2j80fGgVRqrlPzg3rDJONNA/hDlsMT10BEDwhKQTDFhjv0l0hSJpCe0/epKR42l12T+UWt+y8znwP6CAK36oDfA/cKj7cmzHsD/gvEvBKb3Iv5TkXX2vxeE/6V7ipF+Szz8o4TWwbAIFQIqBO1NYo8e/Uys1XS0I6z+nj2oE2yjxPyH8A+M9Bts/wqTAq3yE5T/e+zteX4jjP+Z2Ilnq8+U/wSJfoH+r6z8/eOdp3MbwPwNEMiongNg/gttvjSkT0T8gLdG5BEPwPw==\",\"dtype\":\"float64\",\"order\":\"little\",\"shape\":[47]}},\"selected\":{\"id\":\"1483\"},\"selection_policy\":{\"id\":\"1499\"}},\"id\":\"1482\",\"type\":\"ColumnDataSource\"},{\"attributes\":{\"fill_alpha\":{\"value\":0.2},\"fill_color\":{\"value\":\"#fc4f30\"},\"hatch_alpha\":{\"value\":0.2},\"hatch_color\":{\"value\":\"#fc4f30\"},\"line_alpha\":{\"value\":0.2},\"line_color\":{\"value\":\"#fc4f30\"},\"size\":{\"value\":5.477225575051661},\"x\":{\"field\":\"principal component 1\"},\"y\":{\"field\":\"principal component 2\"}},\"id\":\"1487\",\"type\":\"Scatter\"},{\"attributes\":{\"fill_alpha\":{\"value\":0.1},\"fill_color\":{\"value\":\"#8b8b8b\"},\"hatch_alpha\":{\"value\":0.1},\"hatch_color\":{\"value\":\"#8b8b8b\"},\"line_alpha\":{\"value\":0.1},\"line_color\":{\"value\":\"#8b8b8b\"},\"size\":{\"value\":5.477225575051661},\"x\":{\"field\":\"principal component 1\"},\"y\":{\"field\":\"principal component 2\"}},\"id\":\"1558\",\"type\":\"Scatter\"},{\"attributes\":{},\"id\":\"1432\",\"type\":\"LinearScale\"},{\"attributes\":{\"fill_color\":{\"value\":\"#30a2da\"},\"hatch_color\":{\"value\":\"#30a2da\"},\"line_color\":{\"value\":\"#30a2da\"},\"size\":{\"value\":5.477225575051661},\"x\":{\"field\":\"principal component 1\"},\"y\":{\"field\":\"principal component 2\"}},\"id\":\"1464\",\"type\":\"Scatter\"},{\"attributes\":{\"coordinates\":null,\"data_source\":{\"id\":\"1554\"},\"glyph\":{\"id\":\"1557\"},\"group\":null,\"hover_glyph\":null,\"muted_glyph\":{\"id\":\"1559\"},\"nonselection_glyph\":{\"id\":\"1558\"},\"selection_glyph\":{\"id\":\"1581\"},\"view\":{\"id\":\"1561\"}},\"id\":\"1560\",\"type\":\"GlyphRenderer\"},{\"attributes\":{\"angle\":{\"value\":0.0},\"fill_alpha\":{\"value\":1.0},\"fill_color\":{\"value\":\"#fc4f30\"},\"hatch_alpha\":{\"value\":1.0},\"hatch_color\":{\"value\":\"#fc4f30\"},\"hatch_scale\":{\"value\":12.0},\"hatch_weight\":{\"value\":1.0},\"line_alpha\":{\"value\":1.0},\"line_cap\":{\"value\":\"butt\"},\"line_color\":{\"value\":\"#fc4f30\"},\"line_dash\":{\"value\":[]},\"line_dash_offset\":{\"value\":0},\"line_join\":{\"value\":\"bevel\"},\"line_width\":{\"value\":1},\"marker\":{\"value\":\"circle\"},\"size\":{\"value\":5.477225575051661},\"x\":{\"field\":\"principal component 1\"},\"y\":{\"field\":\"principal component 2\"}},\"id\":\"1503\",\"type\":\"Scatter\"},{\"attributes\":{},\"id\":\"1430\",\"type\":\"LinearScale\"},{\"attributes\":{},\"id\":\"1523\",\"type\":\"UnionRenderers\"},{\"attributes\":{\"fill_color\":{\"value\":\"#e5ae38\"},\"hatch_color\":{\"value\":\"#e5ae38\"},\"line_color\":{\"value\":\"#e5ae38\"},\"size\":{\"value\":5.477225575051661},\"x\":{\"field\":\"principal component 1\"},\"y\":{\"field\":\"principal component 2\"}},\"id\":\"1507\",\"type\":\"Scatter\"},{\"attributes\":{\"label\":{\"value\":\"0\"},\"renderers\":[{\"id\":\"1467\"}]},\"id\":\"1480\",\"type\":\"LegendItem\"},{\"attributes\":{\"data\":{\"class\":{\"__ndarray__\":\"AgAAAAIAAAACAAAAAgAAAAIAAAACAAAAAgAAAAIAAAACAAAAAgAAAAIAAAACAAAAAgAAAAIAAAACAAAAAgAAAAIAAAACAAAAAgAAAAIAAAACAAAAAgAAAAIAAAACAAAAAgAAAAIAAAACAAAAAgAAAAIAAAACAAAAAgAAAAIAAAACAAAAAgAAAAIAAAA=\",\"dtype\":\"int32\",\"order\":\"little\",\"shape\":[35]},\"principal component 1\":{\"__ndarray__\":\"SpyWRVgp8T9ugR5X9prYP3IbLBedo+0/s8/ofCcU3D87RSonBPPmP6zPreCHE6O/nG7TpLxF1j/jsi/tXaLDP1qtUgxOO94/E8o1+Nal8z+NMcu34yPkPxvQiu5FauY/IYVVJyMw5T8g3+hlmjXOPxHNWUU16PA/rbCTKGVXzD+3XhOcVyuxP6eN/lcD8eM/2iTllsIb0j89X21EL8y2Pw0kQhu5t8w/9ARG5kBd4j/kgNIAxiTQP+JfCCh3c/I/XvfkcaQM9D8e4ojGy2z3P5NitwdQKu8/9oqkmmBE9T9kfP3wHsDyP+D2a9zEx/E/LDazatUo8z+cvvFQw4ztP+JfCCh3c/I/TNVbMZXv+D872SvtkrLuPw==\",\"dtype\":\"float64\",\"order\":\"little\",\"shape\":[35]},\"principal component 2\":{\"__ndarray__\":\"fwBXCeIay7/1FZTW++niv8eMYVQLD58/uPYGE7Alrr/Zey3GT7zHvzUstjbqstu/Gr4mRUpmyL+WidR4n03pv7YIqYi1qdq/Sq/HVvkb7r/nxVO9Cq3av/g2wlYjQbC/ZRnYPl+3zL9FnpAdXtTovxAtEs1+YeS/gm49mmj50b+Yx2j/JzfLv+rFHdUiNJw/qEs7dJBT67+wjkY+Z2PGv1T2R1TcWdi/eTq1mhitw7+pehyOShHjv1EIW3ZDcea/lDFoiaKt8r+yr2Dt6Wzcv0rNWXwPR+K/QmwdsBUn37/G2YlbzWjUv/yTgLFv8dK/UK/b9jwm6r9SAFtSILGTP1EIW3ZDcea/xFrVOlT47L9+Ciw2mtGWvw==\",\"dtype\":\"float64\",\"order\":\"little\",\"shape\":[35]},\"principal_component_1\":{\"__ndarray__\":\"SpyWRVgp8T9ugR5X9prYP3IbLBedo+0/s8/ofCcU3D87RSonBPPmP6zPreCHE6O/nG7TpLxF1j/jsi/tXaLDP1qtUgxOO94/E8o1+Nal8z+NMcu34yPkPxvQiu5FauY/IYVVJyMw5T8g3+hlmjXOPxHNWUU16PA/rbCTKGVXzD+3XhOcVyuxP6eN/lcD8eM/2iTllsIb0j89X21EL8y2Pw0kQhu5t8w/9ARG5kBd4j/kgNIAxiTQP+JfCCh3c/I/XvfkcaQM9D8e4ojGy2z3P5NitwdQKu8/9oqkmmBE9T9kfP3wHsDyP+D2a9zEx/E/LDazatUo8z+cvvFQw4ztP+JfCCh3c/I/TNVbMZXv+D872SvtkrLuPw==\",\"dtype\":\"float64\",\"order\":\"little\",\"shape\":[35]},\"principal_component_2\":{\"__ndarray__\":\"fwBXCeIay7/1FZTW++niv8eMYVQLD58/uPYGE7Alrr/Zey3GT7zHvzUstjbqstu/Gr4mRUpmyL+WidR4n03pv7YIqYi1qdq/Sq/HVvkb7r/nxVO9Cq3av/g2wlYjQbC/ZRnYPl+3zL9FnpAdXtTovxAtEs1+YeS/gm49mmj50b+Yx2j/JzfLv+rFHdUiNJw/qEs7dJBT67+wjkY+Z2PGv1T2R1TcWdi/eTq1mhitw7+pehyOShHjv1EIW3ZDcea/lDFoiaKt8r+yr2Dt6Wzcv0rNWXwPR+K/QmwdsBUn37/G2YlbzWjUv/yTgLFv8dK/UK/b9jwm6r9SAFtSILGTP1EIW3ZDcea/xFrVOlT47L9+Ciw2mtGWvw==\",\"dtype\":\"float64\",\"order\":\"little\",\"shape\":[35]}},\"selected\":{\"id\":\"1505\"},\"selection_policy\":{\"id\":\"1523\"}},\"id\":\"1504\",\"type\":\"ColumnDataSource\"},{\"attributes\":{},\"id\":\"1505\",\"type\":\"Selection\"},{\"attributes\":{},\"id\":\"1577\",\"type\":\"UnionRenderers\"},{\"attributes\":{\"label\":{\"value\":\"4\"},\"renderers\":[{\"id\":\"1560\"}]},\"id\":\"1580\",\"type\":\"LegendItem\"},{\"attributes\":{},\"id\":\"1435\",\"type\":\"BasicTicker\"},{\"attributes\":{\"margin\":[5,5,5,5],\"name\":\"HSpacer01367\",\"sizing_mode\":\"stretch_width\"},\"id\":\"1600\",\"type\":\"Spacer\"},{\"attributes\":{\"label\":{\"value\":\"2\"},\"renderers\":[{\"id\":\"1510\"}]},\"id\":\"1526\",\"type\":\"LegendItem\"},{\"attributes\":{\"axis\":{\"id\":\"1434\"},\"coordinates\":null,\"grid_line_color\":null,\"group\":null,\"ticker\":null},\"id\":\"1437\",\"type\":\"Grid\"},{\"attributes\":{},\"id\":\"1439\",\"type\":\"BasicTicker\"},{\"attributes\":{\"axis_label\":\"principal component 2\",\"coordinates\":null,\"formatter\":{\"id\":\"1459\"},\"group\":null,\"major_label_policy\":{\"id\":\"1460\"},\"ticker\":{\"id\":\"1439\"}},\"id\":\"1438\",\"type\":\"LinearAxis\"},{\"attributes\":{\"angle\":{\"value\":0.0},\"fill_alpha\":{\"value\":1.0},\"fill_color\":{\"value\":\"#8b8b8b\"},\"hatch_alpha\":{\"value\":1.0},\"hatch_color\":{\"value\":\"#8b8b8b\"},\"hatch_scale\":{\"value\":12.0},\"hatch_weight\":{\"value\":1.0},\"line_alpha\":{\"value\":1.0},\"line_cap\":{\"value\":\"butt\"},\"line_color\":{\"value\":\"#8b8b8b\"},\"line_dash\":{\"value\":[]},\"line_dash_offset\":{\"value\":0},\"line_join\":{\"value\":\"bevel\"},\"line_width\":{\"value\":1},\"marker\":{\"value\":\"circle\"},\"size\":{\"value\":5.477225575051661},\"x\":{\"field\":\"principal component 1\"},\"y\":{\"field\":\"principal component 2\"}},\"id\":\"1581\",\"type\":\"Scatter\"},{\"attributes\":{},\"id\":\"1456\",\"type\":\"BasicTickFormatter\"},{\"attributes\":{\"fill_alpha\":{\"value\":0.2},\"fill_color\":{\"value\":\"#6d904f\"},\"hatch_alpha\":{\"value\":0.2},\"hatch_color\":{\"value\":\"#6d904f\"},\"line_alpha\":{\"value\":0.2},\"line_color\":{\"value\":\"#6d904f\"},\"size\":{\"value\":5.477225575051661},\"x\":{\"field\":\"principal component 1\"},\"y\":{\"field\":\"principal component 2\"}},\"id\":\"1533\",\"type\":\"Scatter\"},{\"attributes\":{},\"id\":\"1460\",\"type\":\"AllLabels\"},{\"attributes\":{\"coordinates\":null,\"data_source\":{\"id\":\"1504\"},\"glyph\":{\"id\":\"1507\"},\"group\":null,\"hover_glyph\":null,\"muted_glyph\":{\"id\":\"1509\"},\"nonselection_glyph\":{\"id\":\"1508\"},\"selection_glyph\":{\"id\":\"1527\"},\"view\":{\"id\":\"1511\"}},\"id\":\"1510\",\"type\":\"GlyphRenderer\"},{\"attributes\":{\"fill_alpha\":{\"value\":0.1},\"fill_color\":{\"value\":\"#e5ae38\"},\"hatch_alpha\":{\"value\":0.1},\"hatch_color\":{\"value\":\"#e5ae38\"},\"line_alpha\":{\"value\":0.1},\"line_color\":{\"value\":\"#e5ae38\"},\"size\":{\"value\":5.477225575051661},\"x\":{\"field\":\"principal component 1\"},\"y\":{\"field\":\"principal component 2\"}},\"id\":\"1508\",\"type\":\"Scatter\"},{\"attributes\":{},\"id\":\"1462\",\"type\":\"Selection\"},{\"attributes\":{\"coordinates\":null,\"data_source\":{\"id\":\"1461\"},\"glyph\":{\"id\":\"1464\"},\"group\":null,\"hover_glyph\":null,\"muted_glyph\":{\"id\":\"1466\"},\"nonselection_glyph\":{\"id\":\"1465\"},\"selection_glyph\":{\"id\":\"1481\"},\"view\":{\"id\":\"1468\"}},\"id\":\"1467\",\"type\":\"GlyphRenderer\"},{\"attributes\":{\"fill_alpha\":{\"value\":0.2},\"fill_color\":{\"value\":\"#e5ae38\"},\"hatch_alpha\":{\"value\":0.2},\"hatch_color\":{\"value\":\"#e5ae38\"},\"line_alpha\":{\"value\":0.2},\"line_color\":{\"value\":\"#e5ae38\"},\"size\":{\"value\":5.477225575051661},\"x\":{\"field\":\"principal component 1\"},\"y\":{\"field\":\"principal component 2\"}},\"id\":\"1509\",\"type\":\"Scatter\"},{\"attributes\":{},\"id\":\"1442\",\"type\":\"SaveTool\"},{\"attributes\":{},\"id\":\"1443\",\"type\":\"PanTool\"},{\"attributes\":{\"source\":{\"id\":\"1461\"}},\"id\":\"1468\",\"type\":\"CDSView\"},{\"attributes\":{\"angle\":{\"value\":0.0},\"fill_alpha\":{\"value\":1.0},\"fill_color\":{\"value\":\"#e5ae38\"},\"hatch_alpha\":{\"value\":1.0},\"hatch_color\":{\"value\":\"#e5ae38\"},\"hatch_scale\":{\"value\":12.0},\"hatch_weight\":{\"value\":1.0},\"line_alpha\":{\"value\":1.0},\"line_cap\":{\"value\":\"butt\"},\"line_color\":{\"value\":\"#e5ae38\"},\"line_dash\":{\"value\":[]},\"line_dash_offset\":{\"value\":0},\"line_join\":{\"value\":\"bevel\"},\"line_width\":{\"value\":1},\"marker\":{\"value\":\"circle\"},\"size\":{\"value\":5.477225575051661},\"x\":{\"field\":\"principal component 1\"},\"y\":{\"field\":\"principal component 2\"}},\"id\":\"1527\",\"type\":\"Scatter\"},{\"attributes\":{},\"id\":\"1444\",\"type\":\"WheelZoomTool\"},{\"attributes\":{\"data\":{\"class\":{\"__ndarray__\":\"AwAAAAMAAAADAAAAAwAAAAMAAAADAAAAAwAAAAMAAAADAAAAAwAAAAMAAAADAAAAAwAAAAMAAAADAAAAAwAAAAMAAAADAAAAAwAAAAMAAAADAAAAAwAAAAMAAAADAAAAAwAAAAMAAAA=\",\"dtype\":\"int32\",\"order\":\"little\",\"shape\":[26]},\"principal component 1\":{\"__ndarray__\":\"SBG/DcgdAsCBOOBfNxwDwLQJAJp1kADAyQAkCtJOAcDjZGIh0IkBwPHCxTEAAwLAxInJpDufAcDV50anfIUBwBiyi9ggTv6/cTHeNze4AsA8LuviBaL+vyp6TSAdowHAJR7M7n8xBsDqCVoroGoAwNIXBOp1WAHA9emdu1gfAcC2CNRTnk/9v3qUD3eZ3QTAyoxIYeyAA8CsC08M91oAwFYj9NlHXQHAPuEBy85KAsD9iQQfsG3/v/qHnMYlEQHA0/qjG9EMA8AumiyrctABwA==\",\"dtype\":\"float64\",\"order\":\"little\",\"shape\":[26]},\"principal component 2\":{\"__ndarray__\":\"aO9787ku4D/T0afLsZflP7y+IZP5S/g/ajCl0ygh8T/bq8gbWj3+P5S1q3xqxwVAYYxdN1I4+D81/v9OLnXgP/ZJNFfU5fY/KKWSD06H8j9qwJbBvYzbP9zyksSHeu4/PbvqOD9U3z9pqo7kYAbRP2yMSH8equE/2BmgNoSL1T8Plx54QH/cP7lxJTRvQf0/xrJwma57AUCz5UO9KevlP3REj9YJvNI/VMJmhpPz3T9mssu+Q9XfP+7eGJkvvvI/VKrBuP1o8j947q9kYGjwPw==\",\"dtype\":\"float64\",\"order\":\"little\",\"shape\":[26]},\"principal_component_1\":{\"__ndarray__\":\"SBG/DcgdAsCBOOBfNxwDwLQJAJp1kADAyQAkCtJOAcDjZGIh0IkBwPHCxTEAAwLAxInJpDufAcDV50anfIUBwBiyi9ggTv6/cTHeNze4AsA8LuviBaL+vyp6TSAdowHAJR7M7n8xBsDqCVoroGoAwNIXBOp1WAHA9emdu1gfAcC2CNRTnk/9v3qUD3eZ3QTAyoxIYeyAA8CsC08M91oAwFYj9NlHXQHAPuEBy85KAsD9iQQfsG3/v/qHnMYlEQHA0/qjG9EMA8AumiyrctABwA==\",\"dtype\":\"float64\",\"order\":\"little\",\"shape\":[26]},\"principal_component_2\":{\"__ndarray__\":\"aO9787ku4D/T0afLsZflP7y+IZP5S/g/ajCl0ygh8T/bq8gbWj3+P5S1q3xqxwVAYYxdN1I4+D81/v9OLnXgP/ZJNFfU5fY/KKWSD06H8j9qwJbBvYzbP9zyksSHeu4/PbvqOD9U3z9pqo7kYAbRP2yMSH8equE/2BmgNoSL1T8Plx54QH/cP7lxJTRvQf0/xrJwma57AUCz5UO9KevlP3REj9YJvNI/VMJmhpPz3T9mssu+Q9XfP+7eGJkvvvI/VKrBuP1o8j947q9kYGjwPw==\",\"dtype\":\"float64\",\"order\":\"little\",\"shape\":[26]}},\"selected\":{\"id\":\"1529\"},\"selection_policy\":{\"id\":\"1549\"}},\"id\":\"1528\",\"type\":\"ColumnDataSource\"},{\"attributes\":{\"overlay\":{\"id\":\"1447\"}},\"id\":\"1445\",\"type\":\"BoxZoomTool\"},{\"attributes\":{\"fill_color\":{\"value\":\"#6d904f\"},\"hatch_color\":{\"value\":\"#6d904f\"},\"line_color\":{\"value\":\"#6d904f\"},\"size\":{\"value\":5.477225575051661},\"x\":{\"field\":\"principal component 1\"},\"y\":{\"field\":\"principal component 2\"}},\"id\":\"1531\",\"type\":\"Scatter\"},{\"attributes\":{\"end\":3.569854510235276,\"reset_end\":3.569854510235276,\"reset_start\":-3.0348831212643534,\"start\":-3.0348831212643534,\"tags\":[[[\"principal component 1\",\"principal component 1\",null]]]},\"id\":\"1418\",\"type\":\"Range1d\"},{\"attributes\":{},\"id\":\"1529\",\"type\":\"Selection\"},{\"attributes\":{\"fill_alpha\":{\"value\":0.1},\"fill_color\":{\"value\":\"#6d904f\"},\"hatch_alpha\":{\"value\":0.1},\"hatch_color\":{\"value\":\"#6d904f\"},\"line_alpha\":{\"value\":0.1},\"line_color\":{\"value\":\"#6d904f\"},\"size\":{\"value\":5.477225575051661},\"x\":{\"field\":\"principal component 1\"},\"y\":{\"field\":\"principal component 2\"}},\"id\":\"1532\",\"type\":\"Scatter\"},{\"attributes\":{},\"id\":\"1446\",\"type\":\"ResetTool\"},{\"attributes\":{\"bottom_units\":\"screen\",\"coordinates\":null,\"fill_alpha\":0.5,\"fill_color\":\"lightgrey\",\"group\":null,\"left_units\":\"screen\",\"level\":\"overlay\",\"line_alpha\":1.0,\"line_color\":\"black\",\"line_dash\":[4,4],\"line_width\":2,\"right_units\":\"screen\",\"syncable\":false,\"top_units\":\"screen\"},\"id\":\"1447\",\"type\":\"BoxAnnotation\"},{\"attributes\":{\"coordinates\":null,\"data_source\":{\"id\":\"1528\"},\"glyph\":{\"id\":\"1531\"},\"group\":null,\"hover_glyph\":null,\"muted_glyph\":{\"id\":\"1533\"},\"nonselection_glyph\":{\"id\":\"1532\"},\"selection_glyph\":{\"id\":\"1553\"},\"view\":{\"id\":\"1535\"}},\"id\":\"1534\",\"type\":\"GlyphRenderer\"}],\"root_ids\":[\"1416\"]},\"title\":\"Bokeh Application\",\"version\":\"2.4.3\"}};\n",
       "    var render_items = [{\"docid\":\"5b1867bf-5c68-48e0-861d-4af6639f2205\",\"root_ids\":[\"1416\"],\"roots\":{\"1416\":\"852679b9-1afa-4b0c-86fd-c025e6b33c4b\"}}];\n",
       "    root.Bokeh.embed.embed_items_notebook(docs_json, render_items);\n",
       "  }\n",
       "  if (root.Bokeh !== undefined && root.Bokeh.Panel !== undefined) {\n",
       "    embed_document(root);\n",
       "  } else {\n",
       "    var attempts = 0;\n",
       "    var timer = setInterval(function(root) {\n",
       "      if (root.Bokeh !== undefined && root.Bokeh.Panel !== undefined) {\n",
       "        clearInterval(timer);\n",
       "        embed_document(root);\n",
       "      } else if (document.readyState == \"complete\") {\n",
       "        attempts++;\n",
       "        if (attempts > 200) {\n",
       "          clearInterval(timer);\n",
       "          console.log(\"Bokeh: ERROR: Unable to run BokehJS code because BokehJS library is missing\");\n",
       "        }\n",
       "      }\n",
       "    }, 25, root)\n",
       "  }\n",
       "})(window);</script>"
      ],
      "text/plain": [
       ":NdOverlay   [class]\n",
       "   :Scatter   [principal component 1]   (principal component 2,class)"
      ]
     },
     "execution_count": 16,
     "metadata": {
      "application/vnd.holoviews_exec.v0+json": {
       "id": "1416"
      }
     },
     "output_type": "execute_result"
    }
   ],
   "source": [
    "# Plotting the clusters with 2 features\n",
    "df_iris_pca.hvplot.scatter(\n",
    "    x=\"principal component 1\",\n",
    "    y=\"principal component 2\",\n",
    "    hover_cols=[\"class\"],\n",
    "    by=\"class\",\n",
    ")"
   ]
  },
  {
   "cell_type": "code",
   "execution_count": null,
   "id": "364b4e2e",
   "metadata": {},
   "outputs": [],
   "source": []
  }
 ],
 "metadata": {
  "kernelspec": {
   "display_name": "Python [conda env:mlenv] *",
   "language": "python",
   "name": "conda-env-mlenv-py"
  },
  "language_info": {
   "codemirror_mode": {
    "name": "ipython",
    "version": 3
   },
   "file_extension": ".py",
   "mimetype": "text/x-python",
   "name": "python",
   "nbconvert_exporter": "python",
   "pygments_lexer": "ipython3",
   "version": "3.7.13"
  }
 },
 "nbformat": 4,
 "nbformat_minor": 5
}
